{
 "cells": [
  {
   "cell_type": "markdown",
   "metadata": {
    "colab_type": "text",
    "id": "3LisvDshzevQ"
   },
   "source": [
    "# Imports"
   ]
  },
  {
   "cell_type": "code",
   "execution_count": 1,
   "metadata": {
    "colab": {
     "base_uri": "https://localhost:8080/",
     "height": 80
    },
    "colab_type": "code",
    "id": "bdeDl5HO0QsY",
    "outputId": "6532a9bf-f1f5-42b9-ddb7-bfeb5b08adf9"
   },
   "outputs": [
    {
     "name": "stderr",
     "output_type": "stream",
     "text": [
      "Using TensorFlow backend.\n"
     ]
    }
   ],
   "source": [
    "import numpy as np\n",
    "import matplotlib.pyplot as plt\n",
    "import os\n",
    "from PIL import Image\n",
    "import keras\n",
    "from keras.models import Model\n",
    "from keras.layers import Conv2D, MaxPooling2D, Input, Conv2DTranspose, Concatenate, BatchNormalization, UpSampling2D\n",
    "from keras.layers import  Dropout, Activation\n",
    "from keras.optimizers import Adam, SGD\n",
    "from keras.layers.advanced_activations import LeakyReLU\n",
    "from keras.callbacks import ModelCheckpoint, ReduceLROnPlateau, EarlyStopping\n",
    "from keras import backend as K\n",
    "from keras.utils import plot_model\n",
    "from keras.regularizers import l1,l2\n",
    "import tensorflow as tf\n",
    "import random\n",
    "import math\n",
    "from random import shuffle"
   ]
  },
  {
   "cell_type": "code",
   "execution_count": 2,
   "metadata": {
    "scrolled": true
   },
   "outputs": [
    {
     "data": {
      "text/plain": [
       "'2.3.1'"
      ]
     },
     "execution_count": 2,
     "metadata": {},
     "output_type": "execute_result"
    }
   ],
   "source": [
    "keras.__version__"
   ]
  },
  {
   "cell_type": "code",
   "execution_count": 3,
   "metadata": {},
   "outputs": [
    {
     "data": {
      "text/plain": [
       "'2.1.0'"
      ]
     },
     "execution_count": 3,
     "metadata": {},
     "output_type": "execute_result"
    }
   ],
   "source": [
    "tf.__version__"
   ]
  },
  {
   "cell_type": "markdown",
   "metadata": {
    "colab_type": "text",
    "id": "tavQ2-MJ0x9E"
   },
   "source": [
    "# Generators"
   ]
  },
  {
   "cell_type": "code",
   "execution_count": 4,
   "metadata": {
    "colab": {},
    "colab_type": "code",
    "id": "P8tq55g677wp"
   },
   "outputs": [],
   "source": [
    "def image_generator(files, batch_size = 32, sz = (256, 256)):\n",
    "  batch_in_files = files[:]\n",
    "  while True: \n",
    "    if batch_in_files==[]:\n",
    "      #print(len(files))\n",
    "      batch_in_files = files[:]\n",
    "      shuffle(batch_in_files)\n",
    "      \n",
    "    batch = batch_in_files[0:batch_size]    \n",
    "    del batch_in_files[0:batch_size]\n",
    "          \n",
    "    #variables for collecting batches of inputs and outputs \n",
    "    batch_x = []\n",
    "    batch_y = []\n",
    "    \n",
    "    for f in batch:\n",
    "\n",
    "        #get the masks. Note that masks are png files \n",
    "        mask = Image.open(f.replace('green', 'mask'))\n",
    "        mask = np.array(mask.resize(sz))\n",
    "        #preprocess the mask \n",
    "        mask[mask == 4] = 0\n",
    "        mask[mask >= 1] = 1\n",
    "        mask = np.nan_to_num(mask)\n",
    "        \n",
    "        batch_y.append(mask)\n",
    "\n",
    "        #preprocess the raw images \n",
    "        \n",
    "        #Green\n",
    "        g = Image.open(f)\n",
    "        \n",
    "        #raw = raw.resize(sz)\n",
    "        g = np.array(g)\n",
    "        g[g<=0] =0\n",
    "        #g[g>1] = 1\n",
    "        g = np.nan_to_num(g)\n",
    "        \n",
    "        #Red\n",
    "        r = Image.open(f.replace('green', 'red'))\n",
    "        r = np.array(r)\n",
    "        r[r<=0]=0\n",
    "        #r[r>1]=1\n",
    "        r = np.nan_to_num(r)\n",
    "\n",
    "        #Blue               \n",
    "        b = Image.open(f.replace('green', 'blue'))\n",
    "        b = np.array(b)\n",
    "        b[b<=0]=0\n",
    "        #b[b>1]=1\n",
    "        b = np.nan_to_num(b)\n",
    "\n",
    "        #nir\n",
    "        nir = Image.open(f.replace('green', 'nir'))\n",
    "        nir = np.array(nir)\n",
    "        nir[nir<=0]=0\n",
    "        #nir[nir>1]=1\n",
    "        nir = np.nan_to_num(nir)\n",
    "        \n",
    "        #red_edge\n",
    "        red_edge = Image.open(f.replace('green', 'rededge'))\n",
    "        red_edge = np.array(red_edge)\n",
    "        red_edge[red_edge<=0] =0\n",
    "        #red_edge[red_edge>1]=1\n",
    "        red_edge = np.nan_to_num(red_edge)     \n",
    "\n",
    "        #dsm\n",
    "        dsm = Image.open(f.replace('green', 'dsm'))\n",
    "        dsm = np.array(dsm)\n",
    "        #dsm[dsm>1]=1\n",
    "        dsm = np.nan_to_num(dsm)\n",
    "        \n",
    "        #ExGR\n",
    "        exgr = 3*g-2.3*r-b\n",
    "\n",
    "#         raw data                                 \n",
    "        raw = np.dstack((r,g,b,nir,red_edge,dsm,exgr))\n",
    "#         raw = np.dstack((r,g,b,dsm))\n",
    "        batch_x.append(raw)\n",
    "\n",
    "    #preprocess a batch of images and masks \n",
    "    batch_x = np.array(batch_x)\n",
    "    batch_y = np.array(batch_y)\n",
    "    batch_y = np.expand_dims(batch_y,3)\n",
    "\n",
    "    yield (batch_x, batch_y)      \n",
    "    "
   ]
  },
  {
   "cell_type": "code",
   "execution_count": 5,
   "metadata": {
    "colab": {},
    "colab_type": "code",
    "id": "tr4PcJ1M6PHI"
   },
   "outputs": [],
   "source": [
    "path = 'Path/to/train-data'\n",
    "\n",
    "batch_size = 32\n",
    "all_files = []\n",
    "for root, sub, files in os.walk(path):\n",
    "  for filename in files:\n",
    "    if 'green' in filename:\n",
    "      all_files.append(os.path.join(root,filename))\n",
    "\n",
    "shuffle(all_files)\n",
    "split = int(0.7 * len(all_files))\n",
    "split_train = int(0.7 * split)\n",
    "\n",
    "#split into training and testing\n",
    "train_files = all_files[0:split_train]\n",
    "test_files  = all_files[split_train:split]\n",
    "test_stat = all_files[split:]\n",
    "\n",
    "train_generator = image_generator(train_files, batch_size = batch_size)\n",
    "test_generator  = image_generator(test_files, batch_size = batch_size)"
   ]
  },
  {
   "cell_type": "code",
   "execution_count": 24,
   "metadata": {},
   "outputs": [
    {
     "name": "stdout",
     "output_type": "stream",
     "text": [
      "all image number = 9845 train image number = 4823 validation image number = 2068 test imgae number = 2954\n"
     ]
    }
   ],
   "source": [
    "print(\"all image number =\", len(all_files),\n",
    "     \"train image number =\", len(train_files),\n",
    "     \"validation image number =\", len(test_files),\n",
    "     \"test imgae number =\", len(test_stat))"
   ]
  },
  {
   "cell_type": "code",
   "execution_count": 7,
   "metadata": {
    "colab": {
     "base_uri": "https://localhost:8080/",
     "height": 34
    },
    "colab_type": "code",
    "id": "yn_bdWgIuRHD",
    "outputId": "1a737f04-5f02-4768-9f73-b64c5dc9b1f2"
   },
   "outputs": [],
   "source": [
    "x, y= next(test_generator)"
   ]
  },
  {
   "cell_type": "code",
   "execution_count": 9,
   "metadata": {
    "colab": {
     "base_uri": "https://localhost:8080/",
     "height": 160
    },
    "colab_type": "code",
    "id": "jnuNW20FeupL",
    "outputId": "8cbe9740-119e-42be-e118-b83e84653d09"
   },
   "outputs": [
    {
     "data": {
      "text/plain": [
       "<matplotlib.image.AxesImage at 0x1e08504add8>"
      ]
     },
     "execution_count": 9,
     "metadata": {},
     "output_type": "execute_result"
    },
    {
     "data": {
      "image/png": "[encoded data removed]",
      "text/plain": [
       "<Figure size 432x288 with 1 Axes>"
      ]
     },
     "metadata": {
      "needs_background": "light"
     },
     "output_type": "display_data"
    }
   ],
   "source": [
    "plt.axis('off')\n",
    "s_img = x[2]\n",
    "s_img = s_img[:,:,0:3]\n",
    "msk = y[2].squeeze()\n",
    "msk = np.stack((msk,)*3, axis=-1)\n",
    "plt.imshow( np.concatenate([s_img, msk, s_img*msk*3], axis = 1))"
   ]
  },
  {
   "cell_type": "markdown",
   "metadata": {
    "colab_type": "text",
    "id": "raXLOfBk1pLV"
   },
   "source": [
    "# IoU metric\n",
    "\n",
    "The intersection over union (IoU) metric is a simple metric used to evaluate the performance of a segmentation algorithm. Given two masks $x_{true}, x_{pred}$ we evaluate \n",
    "\n",
    "$$IoU = \\frac{y_{true} \\cap y_{pred}}{y_{true} \\cup y_{pred}}$$"
   ]
  },
  {
   "cell_type": "code",
   "execution_count": 7,
   "metadata": {
    "colab": {},
    "colab_type": "code",
    "id": "xJLriYXX1oZU"
   },
   "outputs": [],
   "source": [
    "def mean_iou(y_true, y_pred):\n",
    "    yt0 = y_true[:,:,:,0]\n",
    "    yp0 = K.cast(y_pred[:,:,:,0] > 0.5, 'float32')\n",
    "    inter = tf.count_nonzero(tf.logical_and(tf.equal(yt0, 1), tf.equal(yp0, 1)))\n",
    "    union = tf.count_nonzero(tf.add(yt0, yp0))\n",
    "    iou = tf.where(tf.equal(union, 0), 1., tf.cast(inter/union, 'float32'))\n",
    "    return iou"
   ]
  },
  {
   "cell_type": "markdown",
   "metadata": {
    "colab_type": "text",
    "id": "160g6Ex41r-2"
   },
   "source": [
    "# Model"
   ]
  },
  {
   "cell_type": "code",
   "execution_count": 12,
   "metadata": {
    "colab": {},
    "colab_type": "code",
    "id": "hONrrUbW9CM_"
   },
   "outputs": [],
   "source": [
    "def unet(sz = (256, 256, 4)):\n",
    "    \n",
    "  x = Input(sz)\n",
    "  inputs = x\n",
    "  \n",
    "  #down sampling \n",
    "  f = 8\n",
    "  layers = []\n",
    "  \n",
    "  x = BatchNormalization(axis=3,name='bn1')(x)\n",
    "  for i in range(0, 6):\n",
    "    x = Conv2D(f, 3, activation='relu', padding='same',kernel_initializer = 'he_normal',kernel_regularizer=l2(0.0001),bias_regularizer=l2(0.0001)) (x)\n",
    "    x = Conv2D(f, 3, activation='relu', padding='same',kernel_initializer = 'he_normal',kernel_regularizer=l2(0.0001),bias_regularizer=l2(0.0001)) (x)\n",
    "    layers.append(x)\n",
    "    x = MaxPooling2D() (x)\n",
    "    f = f*2\n",
    "  ff2 = 64 \n",
    "  \n",
    "  #bottleneck \n",
    "  j = len(layers) - 1\n",
    "  x = Conv2D(f, 3, activation='relu', padding='same', kernel_initializer = 'he_normal',kernel_regularizer=l2(0.0001),bias_regularizer=l2(0.0001)) (x)\n",
    "  x = Conv2D(f, 3, activation='relu', padding='same', kernel_initializer = 'he_normal',kernel_regularizer=l2(0.0001),bias_regularizer=l2(0.0001)) (x)\n",
    "  x = Conv2DTranspose(ff2, 2, strides=(2, 2), padding='same') (x)\n",
    "  x = Concatenate(axis=3)([x, layers[j]])\n",
    "  j = j -1 \n",
    "  \n",
    "  #upsampling \n",
    "  for i in range(0, 5):\n",
    "    ff2 = ff2//2\n",
    "    f = f // 2 \n",
    "    x = Conv2D(f, 3, activation='relu', padding='same', kernel_initializer = 'he_normal',kernel_regularizer=l2(0.0001),bias_regularizer=l2(0.0001)) (x)\n",
    "    x = Conv2D(f, 3, activation='relu', padding='same', kernel_initializer = 'he_normal',kernel_regularizer=l2(0.0001),bias_regularizer=l2(0.0001)) (x)\n",
    "    x = Conv2DTranspose(ff2, 2, strides=(2, 2), padding='same') (x)\n",
    "    x = Concatenate(axis=3)([x, layers[j]])\n",
    "    j = j -1 \n",
    "    \n",
    "  \n",
    "  #classification \n",
    "  x = Conv2D(f, 3, activation='relu', padding='same', kernel_initializer = 'he_normal',kernel_regularizer=l2(0.0001),bias_regularizer=l2(0.0001)) (x)\n",
    "  x = Conv2D(f, 3, activation='relu', padding='same', kernel_initializer = 'he_normal',kernel_regularizer=l2(0.0001),bias_regularizer=l2(0.0001)) (x)\n",
    "  outputs = Conv2D(1, 1, activation='sigmoid') (x)\n",
    "  \n",
    "  #model creation \n",
    "  model = Model(inputs=[inputs], outputs=[outputs])\n",
    "  model.compile(optimizer = 'adam', loss = 'binary_crossentropy', metrics = ['accuracy', mean_iou])\n",
    "  \n",
    "  return model"
   ]
  },
  {
   "cell_type": "code",
   "execution_count": 13,
   "metadata": {
    "colab": {},
    "colab_type": "code",
    "id": "67Fyeczk_zzh"
   },
   "outputs": [
    {
     "name": "stdout",
     "output_type": "stream",
     "text": [
      "WARNING:tensorflow:From C:\\Users\\HGR-Rage2\\Anaconda3\\envs\\MLworkspace\\lib\\site-packages\\tensorflow\\python\\framework\\op_def_library.py:263: colocate_with (from tensorflow.python.framework.ops) is deprecated and will be removed in a future version.\n",
      "Instructions for updating:\n",
      "Colocations handled automatically by placer.\n"
     ]
    }
   ],
   "source": [
    "model = unet()\n",
    "model.summary()"
   ]
  },
  {
   "cell_type": "markdown",
   "metadata": {
    "colab_type": "text",
    "id": "t7QY8rgO1zUU"
   },
   "source": [
    "# Callbacks\n",
    "\n",
    "Simple functions to save the model at each epoch and show some predictions "
   ]
  },
  {
   "cell_type": "code",
   "execution_count": 14,
   "metadata": {
    "colab": {},
    "colab_type": "code",
    "id": "xfqXmNuc9lWZ"
   },
   "outputs": [],
   "source": [
    "def build_callbacks():\n",
    "        checkpointer = ModelCheckpoint(filepath='unet.h5', verbose=0, save_best_only=True, save_weights_only=True)\n",
    "        callbacks = [checkpointer, PlotLearning()]\n",
    "        return callbacks\n",
    "      \n",
    "# inheritance for training process plot \n",
    "class PlotLearning(keras.callbacks.Callback):\n",
    "\n",
    "    def on_train_begin(self, logs={}):\n",
    "        self.i = 0\n",
    "        self.x = []\n",
    "        self.losses = []\n",
    "        self.val_losses = []\n",
    "        self.acc = []\n",
    "        self.val_acc = []\n",
    "        self.logs = []\n",
    "        self.iou = []\n",
    "        self.val_iou = []\n",
    "    def on_epoch_end(self, epoch, logs={}):\n",
    "        self.logs.append(logs)\n",
    "        self.x.append(self.i)\n",
    "        self.losses.append(logs.get('loss'))\n",
    "        self.val_losses.append(logs.get('val_loss'))\n",
    "        \n",
    "        self.iou.append(logs.get('mean_iou'))\n",
    "        self.val_iou.append(logs.get('val_mean_iou'))\n",
    "        \n",
    "        self.acc.append(logs.get('acc'))\n",
    "        self.val_acc.append(logs.get('val_acc'))\n",
    "        \n",
    "        self.i += 1\n",
    "        print('i=',self.i,'loss=',logs.get('loss'),'val_loss=',logs.get('val_loss'),'mean_acc=',logs.get('acc'),'val_mean_acc=',logs.get('val_acc'),'mean_iou=',logs.get('mean_iou'),'val_mean_iou=',logs.get('val_mean_iou'))\n",
    "        #choose a random test image and preprocess\n",
    "        tf = np.random.choice(test_files)\n",
    "\n",
    "        #Green\n",
    "        g = Image.open(tf)\n",
    "        g = np.array(g)\n",
    "        g[g<=0] =0\n",
    "        g = np.nan_to_num(g)\n",
    "        \n",
    "        #Red\n",
    "        r = Image.open(tf.replace('green', 'red'))\n",
    "        r = np.array(r)\n",
    "        r[r<=0]=0\n",
    "        r = np.nan_to_num(r)\n",
    "\n",
    "        #Blue               \n",
    "        b = Image.open(tf.replace('green', 'blue'))\n",
    "        b = np.array(b)\n",
    "        b[b<=0]=0\n",
    "        b = np.nan_to_num(b)\n",
    "\n",
    "        #nir\n",
    "        nir = Image.open(tf.replace('green', 'nir'))\n",
    "        nir = np.array(nir)\n",
    "        nir[nir<=0]=0\n",
    "        #nir[nir>1]=1\n",
    "        nir = np.nan_to_num(nir)\n",
    "        \n",
    "        #red_edge\n",
    "        red_edge = Image.open(tf.replace('green', 'rededge'))\n",
    "        red_edge = np.array(red_edge)\n",
    "        red_edge[red_edge<=0] =0\n",
    "        #red_edge[red_edge>1]=1\n",
    "        red_edge = np.nan_to_num(red_edge)     \n",
    "\n",
    "        #dsm\n",
    "        dsm = Image.open(tf.replace('green', 'dsm'))\n",
    "        dsm = np.array(dsm)\n",
    "        dsm = np.nan_to_num(dsm)\n",
    "        \n",
    "        #ExGR\n",
    "        exgr = 3*g-2.3*r-b\n",
    "\n",
    "        raw = np.dstack((r,g,b,nir,red_edge,dsm,exgr))\n",
    "        \n",
    "        #predict the mask \n",
    "        pred = model.predict(np.expand_dims(raw, 0))\n",
    "        \n",
    "        #mask post-processing \n",
    "        msk  = pred.squeeze()\n",
    "        msk = np.stack((msk,)*3, axis=-1)\n",
    "        #for analysdata\n",
    "        #predict.append(msk)\n",
    "        \n",
    "        #for 5 bands\n",
    "        msk[msk >=0.7] = 1 \n",
    "        msk[msk <0.7] = 0 \n",
    "        #unique, counts = np.unique(msk, return_counts=True)\n",
    "        \n",
    "        # print(path,np.mean(msk))\n",
    "        \n",
    "        ans = Image.open(tf.replace('green', 'mask'))\n",
    "        ans = np.array(ans)\n",
    "        ans[ans == 4] =0\n",
    "        ans[ans >= 1] =1\n",
    "        ans = np.stack((ans,)*3, axis=-1)\n",
    "        \n",
    "        #show the mask and the segmented image         \n",
    "        show = raw[:,:,0:3]*5\n",
    "        combined = np.concatenate([show, msk, show*msk, ans,show* ans], axis = 1)\n",
    "        \n",
    "        plt.axis('off')\n",
    "        plt.imshow(combined)\n",
    "        plt.show()"
   ]
  },
  {
   "cell_type": "markdown",
   "metadata": {
    "colab_type": "text",
    "id": "sU6SPuVY8Mdc"
   },
   "source": [
    "# Training 6 Channels"
   ]
  },
  {
   "cell_type": "code",
   "execution_count": null,
   "metadata": {},
   "outputs": [],
   "source": [
    "train_steps = len(train_files) //batch_size\n",
    "test_steps = len(test_files) //batch_size\n",
    "\n",
    "history = model.fit_generator(train_generator, \n",
    "                    epochs = 100, steps_per_epoch = train_steps,validation_data = test_generator, validation_steps = test_steps,\n",
    "                    callbacks = build_callbacks(), verbose = 0)"
   ]
  },
  {
   "cell_type": "markdown",
   "metadata": {
    "colab_type": "text",
    "id": "qZc50f0GgkXH"
   },
   "source": [
    "#Save Model"
   ]
  },
  {
   "cell_type": "code",
   "execution_count": 14,
   "metadata": {
    "colab": {},
    "colab_type": "code",
    "id": "dLDDgRZ8k_B_"
   },
   "outputs": [],
   "source": [
    "model.save('C:/Users/HGR-Rage2/Desktop/MLforthesis/multiclass-newtrain/model/binary-class_1_2exgr.h5')"
   ]
  },
  {
   "cell_type": "code",
   "execution_count": 15,
   "metadata": {},
   "outputs": [],
   "source": [
    "model.save_weights('C:/Users/HGR-Rage2/Desktop/MLforthesis/multiclass-newtrain/model/binary-class_1_2exgr_weight.h5')"
   ]
  },
  {
   "cell_type": "markdown",
   "metadata": {
    "colab_type": "text",
    "id": "38lhxPY416GE"
   },
   "source": [
    "# Visualize Model Training"
   ]
  },
  {
   "cell_type": "markdown",
   "metadata": {
    "colab_type": "text",
    "id": "rH91CWki2HCb"
   },
   "source": [
    "A plot of accuracy on the training and validation datasets over training epochs.\n"
   ]
  },
  {
   "cell_type": "code",
   "execution_count": 16,
   "metadata": {
    "colab": {},
    "colab_type": "code",
    "id": "6UfsN_kK2CiL"
   },
   "outputs": [
    {
     "data": {
      "image/png": "[encoded data removed]",
      "text/plain": [
       "<Figure size 432x288 with 1 Axes>"
      ]
     },
     "metadata": {
      "needs_background": "light"
     },
     "output_type": "display_data"
    }
   ],
   "source": [
    "plt.plot(history.history['loss'])\n",
    "plt.plot(history.history['val_loss'])\n",
    "plt.title('model loss')\n",
    "plt.ylabel('loss')\n",
    "plt.xlabel('epoch')\n",
    "plt.legend(['train', 'test'], loc='upper left')\n",
    "plt.show()"
   ]
  },
  {
   "cell_type": "code",
   "execution_count": 17,
   "metadata": {
    "colab": {},
    "colab_type": "code",
    "id": "jGqBhvkU1SM9"
   },
   "outputs": [
    {
     "data": {
      "image/png": "[encoded data removed]",
      "text/plain": [
       "<Figure size 432x288 with 1 Axes>"
      ]
     },
     "metadata": {
      "needs_background": "light"
     },
     "output_type": "display_data"
    }
   ],
   "source": [
    "plt.plot(history.history['acc'])\n",
    "plt.plot(history.history['val_acc'])\n",
    "plt.title('model accuracy')\n",
    "plt.ylabel('acc')\n",
    "plt.xlabel('epoch')\n",
    "plt.legend(['train', 'test'], loc='upper left')\n",
    "plt.show()"
   ]
  },
  {
   "cell_type": "code",
   "execution_count": 18,
   "metadata": {},
   "outputs": [
    {
     "data": {
      "image/png": "[encoded data removed]",
      "text/plain": [
       "<Figure size 432x288 with 1 Axes>"
      ]
     },
     "metadata": {
      "needs_background": "light"
     },
     "output_type": "display_data"
    }
   ],
   "source": [
    "plt.plot(history.history['mean_iou'])\n",
    "plt.plot(history.history['val_mean_iou'])\n",
    "plt.title('model IoU')\n",
    "plt.ylabel('mean_iou')\n",
    "plt.xlabel('epoch')\n",
    "plt.legend(['train', 'test'], loc='upper left')\n",
    "plt.show()"
   ]
  },
  {
   "cell_type": "markdown",
   "metadata": {
    "colab_type": "text",
    "id": "yeRArFsi2eWC"
   },
   "source": [
    "A plot of loss on the training and validation datasets over training epochs."
   ]
  },
  {
   "cell_type": "markdown",
   "metadata": {
    "colab_type": "text",
    "id": "uXLXxAfE8xvC"
   },
   "source": [
    "# Testing"
   ]
  },
  {
   "cell_type": "code",
   "execution_count": 8,
   "metadata": {},
   "outputs": [],
   "source": [
    "# model.load_weights('C:/Users/HGR-Rage2/Desktop/MLforthesis/multiclass-newtrain/model/binary_class_weights.h5')"
   ]
  },
  {
   "cell_type": "code",
   "execution_count": null,
   "metadata": {
    "colab": {
     "base_uri": "https://localhost:8080/",
     "height": 360
    },
    "colab_type": "code",
    "id": "LxEot4NWRsVS",
    "outputId": "660a5420-4d5f-4a57-83ae-e0b750533f3c",
    "scrolled": false
   },
   "outputs": [],
   "source": [
    "from keras.models import load_model\n",
    "model = load_model('C:/Users/HGR-Rage2/Desktop/MLforthesis/multiclass-newtrain/model/binary-class_5bandaddExGR.h5', compile = False)\n"
   ]
  },
  {
   "cell_type": "code",
   "execution_count": 28,
   "metadata": {},
   "outputs": [],
   "source": [
    "model.compile(optimizer = 'adam', loss = 'binary_crossentropy', metrics = ['accuracy', mean_iou])"
   ]
  },
  {
   "cell_type": "code",
   "execution_count": 29,
   "metadata": {},
   "outputs": [],
   "source": [
    "path_tastdata = \"C:/Users/HGR-Rage2/Desktop/MLforthesis/multiclass-newtrain/test-FalseNeg/testdata\"\n",
    "test_specific = []\n",
    "for root, sub, files in os.walk(path_tastdata):\n",
    "  for filename in files:\n",
    "    if 'green' in filename:\n",
    "        test_specific.append(os.path.join(root, filename))"
   ]
  },
  {
   "cell_type": "code",
   "execution_count": null,
   "metadata": {
    "colab": {},
    "colab_type": "code",
    "id": "gW2Mhs8ofOAo"
   },
   "outputs": [],
   "source": [
    "loss_value_all = []\n",
    "metrics_values_all = []\n",
    "iou_values_all = []\n",
    "false_Pos_all = []\n",
    "false_neg_all = []\n",
    "iou = []\n",
    "for f in test_specific:\n",
    "    testG = Image.open(f)\n",
    "    testG = np.array(testG)\n",
    "    testG[testG<=0]=0\n",
    "\n",
    "    testR = Image.open(f.replace('green', 'red'))\n",
    "    testR = np.array(testR)\n",
    "    testR[testR<=0]=0\n",
    "\n",
    "    testB = Image.open(f.replace('green', 'blue'))\n",
    "    testB = np.array(testB)\n",
    "    testB[testB<=0]=0\n",
    "\n",
    "    testNir = Image.open(f.replace('green', 'nir'))\n",
    "    testNir = np.array(testNir)\n",
    "    testNir[testNir<=0]=0\n",
    "\n",
    "    testRedE = Image.open(f.replace('green', 'rededge'))\n",
    "    testRedE = np.array(testRedE)\n",
    "    testRedE[testRedE<=0]=0\n",
    "\n",
    "    testMsk = Image.open(f.replace('green', 'mask'))\n",
    "    testMsk = np.array(testMsk)\n",
    "    testMsk[testMsk == 4] = 0\n",
    "    testMsk[testMsk >= 1] = 1\n",
    "\n",
    "    testDSM = Image.open(f.replace('green', 'dsm'))\n",
    "    testDSM = np.array(testDSM)\n",
    "    \n",
    "    exg = 2*testG-testR-testB\n",
    "    exr = 1.3*testR-testG\n",
    "    #ExGR\n",
    "    exgr = exg-exr\n",
    "\n",
    "\n",
    "    mskfor_evalu = np.stack((testMsk,)*1, axis=-1)\n",
    "\n",
    "    raw = np.dstack((testR, testG, testB, testNir, testRedE, testDSM, exgr))\n",
    "    loss_value,metrics_values,iou_values = model.evaluate(np.expand_dims(raw,0),np.expand_dims(mskfor_evalu,0))\n",
    "    \n",
    "    pred = model.predict(np.expand_dims(raw, 0))\n",
    "    msk  = pred.squeeze()\n",
    "    msk[msk >=0.7] = 1 \n",
    "    msk[msk <0.7] = 0 \n",
    "\n",
    "    #Evaluate IoU\n",
    "    #iou.append(mean_iou(testMsk, msk))\n",
    "    #Evaluate False Positives Rate\n",
    "    FP = np.sum(np.logical_and(msk == 1, testMsk == 0))\n",
    "    TN = np.sum(np.logical_and(msk == 0, testMsk == 0))\n",
    "    FN = np.sum(np.logical_and(msk == 0, testMsk == 1))\n",
    "    #print('False Positives: ',FP)\n",
    "    false_Pos_all.append(FP)\n",
    "    false_neg_all.append(FN)\n",
    "\n",
    "\n",
    "    msk = np.stack((msk,)*3, axis=-1)\n",
    "\n",
    "    #score = model.evaluate(raw,testMsk)\n",
    "    print(loss_value,metrics_values,iou_values)\n",
    "    loss_value_all.append(loss_value)\n",
    "    metrics_values_all.append(metrics_values)\n",
    "    iou_values_all.append(iou_values)\n",
    "\n",
    "    #show = raw[:,:,0:3]*5\n",
    "    testMsk = np.stack((testMsk,)*3, axis=-1)\n",
    "    combined = np.concatenate([raw[:,:,0:3]*[5,5,5],msk,testMsk], axis = 1)\n",
    "\n",
    "    plt.axis('off')\n",
    "    plt.imshow(combined)\n",
    "    plt.show()\n",
    "\n"
   ]
  },
  {
   "cell_type": "code",
   "execution_count": 32,
   "metadata": {
    "colab": {
     "base_uri": "https://localhost:8080/",
     "height": 291
    },
    "colab_type": "code",
    "id": "EqL2LoX2_rdb",
    "outputId": "77558f40-38ed-4b10-d5f5-4a0f6e949e5e"
   },
   "outputs": [
    {
     "name": "stdout",
     "output_type": "stream",
     "text": [
      "loss_val_mean =  0.10617144141217758  loss_val_max =  1.459302544593811  loss_val_min =  0.011924106627702713  loss_val_sd =  0.20899407390369137\n"
     ]
    },
    {
     "data": {
      "image/png": "[encoded data removed]",
      "text/plain": [
       "<Figure size 432x288 with 1 Axes>"
      ]
     },
     "metadata": {},
     "output_type": "display_data"
    }
   ],
   "source": [
    "import seaborn as sns\n",
    "import statistics\n",
    "sns.set(color_codes=True)\n",
    "sns.distplot(loss_value_all);\n",
    "\n",
    "loss_value_all = np.array(loss_value_all)\n",
    "print('loss_val_mean = ',loss_value_all.mean(),' loss_val_max = ',loss_value_all.max(),' loss_val_min = ',loss_value_all.min(),' loss_val_sd = ',np.std(loss_value_all))\n",
    "#plt.hist(loss_value_all)"
   ]
  },
  {
   "cell_type": "code",
   "execution_count": 33,
   "metadata": {
    "colab": {
     "base_uri": "https://localhost:8080/",
     "height": 291
    },
    "colab_type": "code",
    "id": "iviiYI-F7eNH",
    "outputId": "6141306e-e4fe-423e-d57e-2538317fd61d"
   },
   "outputs": [
    {
     "name": "stdout",
     "output_type": "stream",
     "text": [
      "acc_val_mean =  0.9707631078259699  acc_val_max =  1.0  acc_val_min =  0.5479583740234375  acc_val_sd =  0.06397666160899214\n"
     ]
    },
    {
     "data": {
      "image/png": "[encoded data removed]",
      "text/plain": [
       "<Figure size 432x288 with 1 Axes>"
      ]
     },
     "metadata": {},
     "output_type": "display_data"
    }
   ],
   "source": [
    "sns.set(color_codes=True)   \n",
    "sns.distplot(metrics_values_all);\n",
    "\n",
    "metrics_values_all = np.array(metrics_values_all)\n",
    "print('acc_val_mean = ',metrics_values_all.mean(),' acc_val_max = ',metrics_values_all.max(),' acc_val_min = ',metrics_values_all.min(),' acc_val_sd = ',np.std(metrics_values_all))"
   ]
  },
  {
   "cell_type": "code",
   "execution_count": 34,
   "metadata": {},
   "outputs": [
    {
     "name": "stdout",
     "output_type": "stream",
     "text": [
      "IoU_maen =  0.9071045556972767  IoU_max =  1.0  IoU_min =  0.0  IoU_sd =  0.19971556980522714\n"
     ]
    },
    {
     "data": {
      "image/png": "[encoded data removed]",
      "text/plain": [
       "<Figure size 432x288 with 1 Axes>"
      ]
     },
     "metadata": {},
     "output_type": "display_data"
    }
   ],
   "source": [
    "sns.set(color_codes=True)   \n",
    "sns.distplot(iou_values_all);\n",
    "\n",
    "iou_values_all = np.array(iou_values_all)\n",
    "print('IoU_maen = ',iou_values_all.mean(),' IoU_max = ',iou_values_all.max(),' IoU_min = ',iou_values_all.min(),' IoU_sd = ',np.std(iou_values_all))"
   ]
  },
  {
   "cell_type": "code",
   "execution_count": 35,
   "metadata": {
    "colab": {
     "base_uri": "https://localhost:8080/",
     "height": 291
    },
    "colab_type": "code",
    "id": "coEGc8OtBlW6",
    "outputId": "2a9131a9-4b36-4daa-b2c2-2ff65d0d873c"
   },
   "outputs": [
    {
     "name": "stdout",
     "output_type": "stream",
     "text": [
      "false_Pos =  0.146484375\n"
     ]
    },
    {
     "data": {
      "image/png": "[encoded data removed]",
      "text/plain": [
       "<Figure size 432x288 with 1 Axes>"
      ]
     },
     "metadata": {},
     "output_type": "display_data"
    }
   ],
   "source": [
    "sns.set(color_codes=True)   \n",
    "sns.distplot(false_Pos_all);\n",
    "print(\"false_Pos = \", statistics.mean(false_Pos_all)*100/65536)"
   ]
  },
  {
   "cell_type": "code",
   "execution_count": 36,
   "metadata": {
    "colab": {
     "base_uri": "https://localhost:8080/",
     "height": 291
    },
    "colab_type": "code",
    "id": "AEnzqsl0BpcP",
    "outputId": "f9cd5f1c-8e24-4b1b-c9bf-d2bfa3d25ca4"
   },
   "outputs": [
    {
     "name": "stdout",
     "output_type": "stream",
     "text": [
      "false_neg =  3.99932861328125\n"
     ]
    },
    {
     "data": {
      "image/png": "[encoded data removed]",
      "text/plain": [
       "<Figure size 432x288 with 1 Axes>"
      ]
     },
     "metadata": {},
     "output_type": "display_data"
    }
   ],
   "source": [
    "sns.set(color_codes=True)   \n",
    "sns.distplot(false_neg_all);\n",
    "print(\"false_neg = \", statistics.mean(false_neg_all)*100/65536)"
   ]
  },
  {
   "cell_type": "markdown",
   "metadata": {
    "colab_type": "text",
    "id": "TTH5dRpmGaon"
   },
   "source": [
    "# Data Stat "
   ]
  },
  {
   "cell_type": "code",
   "execution_count": null,
   "metadata": {
    "colab": {},
    "colab_type": "code",
    "id": "8kTnU_Ml9Y2I"
   },
   "outputs": [],
   "source": [
    "img = Image.open(f'green1_0/green292_100000.tif')\n",
    "img = np.array(img)"
   ]
  },
  {
   "cell_type": "code",
   "execution_count": null,
   "metadata": {
    "colab": {
     "base_uri": "https://localhost:8080/",
     "height": 34
    },
    "colab_type": "code",
    "id": "bnJLoZIE90Zg",
    "outputId": "3aaba5f5-c45f-47de-a92c-2ea92afacbd0"
   },
   "outputs": [
    {
     "name": "stdout",
     "output_type": "stream",
     "text": [
      "Max = 2313.0098  Min = -12192.999  Mean = -5005.3853\n"
     ]
    }
   ],
   "source": [
    "#img = img/np.max(img)\n",
    "print('Max =',np.max(img),' Min =',np.min(img),' Mean =',np.mean(img))"
   ]
  },
  {
   "cell_type": "code",
   "execution_count": null,
   "metadata": {
    "colab": {
     "base_uri": "https://localhost:8080/",
     "height": 286
    },
    "colab_type": "code",
    "id": "KNqeKCd294WI",
    "outputId": "19d03ebc-fe44-4042-b0f0-651fb74637c0"
   },
   "outputs": [
    {
     "data": {
      "text/plain": [
       "<matplotlib.image.AxesImage at 0x7fb4820b9470>"
      ]
     },
     "execution_count": 143,
     "metadata": {
      "tags": []
     },
     "output_type": "execute_result"
    },
    {
     "data": {
      "image/png": "[encoded data removed]",
      "text/plain": [
       "<Figure size 432x288 with 1 Axes>"
      ]
     },
     "metadata": {
      "tags": []
     },
     "output_type": "display_data"
    }
   ],
   "source": [
    "plt.imshow(img)"
   ]
  },
  {
   "cell_type": "code",
   "execution_count": null,
   "metadata": {
    "colab": {
     "base_uri": "https://localhost:8080/",
     "height": 4689
    },
    "colab_type": "code",
    "id": "EeZ1DC1Mz6tF",
    "outputId": "eb9b98bb-24c2-486f-b01f-a0a32446b711"
   },
   "outputs": [
    {
     "data": {
      "text/plain": [
       "([array([  0.,   0.,   0.,   0.,   0.,   0.,   0.,   0., 256.,   0.]),\n",
       "  array([  0.,   0.,   0.,   0.,   0.,   0.,   0.,   0., 256.,   0.]),\n",
       "  array([  0.,   0.,   0.,   0.,   0.,   0.,   0.,   0., 256.,   0.]),\n",
       "  array([  0.,   0.,   0.,   0.,   0.,   0.,   0.,   0., 256.,   0.]),\n",
       "  array([  0.,   0.,   0.,   0.,   0.,   0.,   0.,   0., 256.,   0.]),\n",
       "  array([  0.,   0.,   0.,   0.,   0.,   0.,   0.,   0., 256.,   0.]),\n",
       "  array([  0.,   0.,   0.,   0.,   0.,   0.,   0.,   0., 256.,   0.]),\n",
       "  array([  0.,   0.,   0.,   0.,   0.,   0.,   0.,   0., 256.,   0.]),\n",
       "  array([  0.,   0.,   0.,   0.,   0.,   0.,   0.,   0., 256.,   0.]),\n",
       "  array([  0.,   0.,   0.,   0.,   0.,   0.,   0.,   0., 256.,   0.]),\n",
       "  array([  0.,   0.,   0.,   0.,   0.,   0.,   0.,   0., 256.,   0.]),\n",
       "  array([  0.,   0.,   0.,   0.,   0.,   0.,   0.,   0., 256.,   0.]),\n",
       "  array([  0.,   0.,   0.,   0.,   0.,   0.,   0.,   0., 256.,   0.]),\n",
       "  array([  0.,   0.,   0.,   0.,   0.,   0.,   0.,   0., 256.,   0.]),\n",
       "  array([  0.,   0.,   0.,   0.,   0.,   0.,   0.,   0., 256.,   0.]),\n",
       "  array([  0.,   0.,   0.,   0.,   0.,   0.,   0.,   0., 256.,   0.]),\n",
       "  array([  0.,   0.,   0.,   0.,   0.,   0.,   0.,   0., 256.,   0.]),\n",
       "  array([  0.,   0.,   0.,   0.,   0.,   0.,   0.,   0., 256.,   0.]),\n",
       "  array([  0.,   0.,   0.,   0.,   0.,   0.,   0.,   0., 256.,   0.]),\n",
       "  array([  0.,   0.,   0.,   0.,   0.,   0.,   0.,   0., 256.,   0.]),\n",
       "  array([  0.,   0.,   0.,   0.,   0.,   0.,   0.,   0., 256.,   0.]),\n",
       "  array([  0.,   0.,   0.,   0.,   0.,   0.,   0.,   0., 256.,   0.]),\n",
       "  array([  0.,   0.,   0.,   0.,   0.,   0.,   0.,   0., 256.,   0.]),\n",
       "  array([  0.,   0.,   0.,   0.,   0.,   0.,   0.,   0., 256.,   0.]),\n",
       "  array([  0.,   0.,   0.,   0.,   0.,   0.,   0.,   1., 254.,   1.]),\n",
       "  array([  0.,   0.,   0.,   0.,   1.,   0.,   0.,   0., 254.,   1.]),\n",
       "  array([  0.,   1.,   0.,   1.,   0.,   0.,   0.,   0., 254.,   0.]),\n",
       "  array([  0.,   2.,   0.,   0.,   0.,   0.,   0.,   0., 253.,   1.]),\n",
       "  array([  0.,   2.,   0.,   0.,   1.,   0.,   0.,   0., 252.,   1.]),\n",
       "  array([  1.,   2.,   0.,   0.,   1.,   0.,   0.,   0., 252.,   0.]),\n",
       "  array([  0.,   4.,   0.,   0.,   0.,   0.,   0.,   0., 251.,   1.]),\n",
       "  array([  0.,   4.,   0.,   0.,   1.,   0.,   0.,   0., 250.,   1.]),\n",
       "  array([  1.,   4.,   0.,   0.,   1.,   0.,   0.,   0., 250.,   0.]),\n",
       "  array([  1.,   5.,   0.,   0.,   0.,   0.,   0.,   0., 249.,   1.]),\n",
       "  array([  0.,   6.,   0.,   0.,   0.,   1.,   0.,   0., 248.,   1.]),\n",
       "  array([  1.,   6.,   0.,   0.,   0.,   1.,   0.,   0., 248.,   0.]),\n",
       "  array([  1.,   7.,   0.,   0.,   0.,   0.,   0.,   0., 248.,   0.]),\n",
       "  array([  0.,   8.,   0.,   0.,   0.,   1.,   0.,   0., 247.,   0.]),\n",
       "  array([  1.,   8.,   0.,   0.,   0.,   1.,   0.,   0., 246.,   0.]),\n",
       "  array([  1.,   9.,   0.,   0.,   0.,   0.,   0.,   1., 245.,   0.]),\n",
       "  array([  0.,  10.,   0.,   0.,   0.,   0.,   1.,   0., 245.,   0.]),\n",
       "  array([  1.,  10.,   0.,   0.,   0.,   0.,   1.,   0., 244.,   0.]),\n",
       "  array([  1.,  11.,   0.,   0.,   0.,   0.,   0.,   1., 243.,   0.]),\n",
       "  array([  0.,  12.,   0.,   0.,   0.,   0.,   1.,   0., 243.,   0.]),\n",
       "  array([  1.,  12.,   0.,   0.,   0.,   0.,   1.,   0., 242.,   0.]),\n",
       "  array([  1.,  13.,   0.,   0.,   0.,   0.,   1.,   0., 240.,   1.]),\n",
       "  array([  1.,  13.,   0.,   0.,   0.,   0.,   1.,   0., 241.,   0.]),\n",
       "  array([  1.,  14.,   0.,   0.,   0.,   0.,   1.,   0., 240.,   0.]),\n",
       "  array([  1.,  15.,   0.,   0.,   0.,   0.,   1.,   0., 238.,   1.]),\n",
       "  array([  1.,  15.,   0.,   0.,   0.,   0.,   1.,   0., 238.,   1.]),\n",
       "  array([  0.,  17.,   0.,   0.,   0.,   0.,   1.,   0., 237.,   1.]),\n",
       "  array([  0.,  18.,   0.,   0.,   0.,   1.,   0.,   0., 237.,   0.]),\n",
       "  array([  1.,  17.,   0.,   0.,   0.,   1.,   0.,   0., 236.,   1.]),\n",
       "  array([  0.,  19.,   0.,   0.,   0.,   1.,   0.,   0., 236.,   0.]),\n",
       "  array([  1.,  18.,   0.,   0.,   0.,   1.,   0.,   1., 234.,   1.]),\n",
       "  array([  0.,  20.,   0.,   0.,   0.,   0.,   1.,   0., 234.,   1.]),\n",
       "  array([  0.,  21.,   0.,   0.,   0.,   1.,   0.,   0., 234.,   0.]),\n",
       "  array([  1.,  20.,   0.,   0.,   1.,   0.,   0.,   1., 232.,   1.]),\n",
       "  array([  0.,  21.,   1.,   0.,   0.,   0.,   1.,   0., 232.,   1.]),\n",
       "  array([  1.,  22.,   0.,   0.,   0.,   0.,   1.,   0., 232.,   0.]),\n",
       "  array([  1.,  22.,   0.,   0.,   1.,   0.,   0.,   1., 230.,   1.]),\n",
       "  array([  0.,  23.,   1.,   0.,   0.,   0.,   1.,   0., 230.,   1.]),\n",
       "  array([  1.,  24.,   0.,   0.,   0.,   0.,   1.,   0., 230.,   0.]),\n",
       "  array([  1.,  24.,   0.,   1.,   0.,   0.,   0.,   1., 228.,   1.]),\n",
       "  array([  0.,  25.,   1.,   0.,   0.,   0.,   0.,   1., 228.,   1.]),\n",
       "  array([  1.,  26.,   0.,   0.,   0.,   0.,   0.,   1., 228.,   0.]),\n",
       "  array([  1.,  26.,   1.,   0.,   0.,   0.,   0.,   0., 227.,   1.]),\n",
       "  array([  0.,  27.,   1.,   0.,   0.,   0.,   0.,   1., 227.,   0.]),\n",
       "  array([  1.,  28.,   0.,   0.,   0.,   0.,   0.,   1., 226.,   0.]),\n",
       "  array([  0.,  29.,   1.,   0.,   0.,   0.,   0.,   0., 225.,   1.]),\n",
       "  array([  0.,  29.,   1.,   0.,   0.,   0.,   0.,   1., 225.,   0.]),\n",
       "  array([  0.,  31.,   0.,   0.,   0.,   0.,   0.,   1., 224.,   0.]),\n",
       "  array([  0.,  32.,   0.,   0.,   0.,   0.,   0.,   0., 223.,   1.]),\n",
       "  array([  0.,  31.,   1.,   0.,   0.,   0.,   0.,   0., 224.,   0.]),\n",
       "  array([  0.,  33.,   0.,   0.,   0.,   0.,   0.,   0., 223.,   0.]),\n",
       "  array([  0.,  34.,   0.,   0.,   0.,   0.,   0.,   0., 222.,   0.]),\n",
       "  array([  0.,  34.,   0.,   0.,   0.,   0.,   0.,   0., 222.,   0.]),\n",
       "  array([  0.,  35.,   0.,   0.,   0.,   0.,   0.,   0., 221.,   0.]),\n",
       "  array([  0.,  36.,   0.,   0.,   0.,   0.,   0.,   0., 220.,   0.]),\n",
       "  array([  0.,  36.,   0.,   0.,   0.,   0.,   0.,   0., 220.,   0.]),\n",
       "  array([  0.,  37.,   0.,   0.,   0.,   0.,   0.,   0., 219.,   0.]),\n",
       "  array([  0.,  37.,   1.,   0.,   0.,   0.,   0.,   1., 217.,   0.]),\n",
       "  array([  1.,  37.,   0.,   0.,   0.,   0.,   0.,   0., 218.,   0.]),\n",
       "  array([  0.,  38.,   1.,   0.,   0.,   0.,   0.,   0., 217.,   0.]),\n",
       "  array([  0.,  39.,   1.,   0.,   0.,   0.,   0.,   1., 215.,   0.]),\n",
       "  array([  1.,  39.,   0.,   0.,   0.,   0.,   0.,   0., 216.,   0.]),\n",
       "  array([  0.,  40.,   1.,   0.,   0.,   0.,   0.,   0., 215.,   0.]),\n",
       "  array([  1.,  40.,   1.,   0.,   0.,   0.,   0.,   1., 213.,   0.]),\n",
       "  array([  1.,  41.,   0.,   0.,   0.,   0.,   0.,   1., 213.,   0.]),\n",
       "  array([  0.,  42.,   0.,   1.,   0.,   0.,   0.,   0., 213.,   0.]),\n",
       "  array([  1.,  42.,   0.,   1.,   0.,   0.,   0.,   1., 211.,   0.]),\n",
       "  array([  1.,  43.,   0.,   0.,   0.,   0.,   1.,   0., 210.,   1.]),\n",
       "  array([  0.,  44.,   0.,   0.,   1.,   1.,   0.,   1., 207.,   2.]),\n",
       "  array([  1.,  45.,   0.,   1.,   1.,   0.,   1.,   1., 205.,   1.]),\n",
       "  array([  2.,  47.,   0.,   1.,   0.,   0.,   1.,   1., 203.,   1.]),\n",
       "  array([  1.,  50.,   0.,   1.,   0.,   0.,   2.,   0., 201.,   1.]),\n",
       "  array([  1.,  52.,   1.,   0.,   0.,   0.,   2.,   0., 199.,   1.]),\n",
       "  array([  1.,  54.,   1.,   0.,   0.,   0.,   1.,   1., 197.,   1.]),\n",
       "  array([  1.,  56.,   1.,   0.,   0.,   0.,   1.,   1., 196.,   0.]),\n",
       "  array([  1.,  59.,   0.,   0.,   0.,   0.,   1.,   2., 193.,   0.]),\n",
       "  array([  2.,  61.,   0.,   0.,   0.,   0.,   0.,   2., 191.,   0.]),\n",
       "  array([  1.,  64.,   0.,   0.,   0.,   0.,   0.,   2., 189.,   0.]),\n",
       "  array([  1.,  66.,   0.,   0.,   0.,   0.,   0.,   2., 187.,   0.]),\n",
       "  array([  1.,  68.,   0.,   0.,   0.,   0.,   0.,   1., 186.,   0.]),\n",
       "  array([  1.,  70.,   0.,   0.,   0.,   0.,   1.,   0., 184.,   0.]),\n",
       "  array([  1.,  72.,   0.,   0.,   0.,   0.,   1.,   0., 182.,   0.]),\n",
       "  array([  1.,  75.,   0.,   0.,   0.,   1.,   0.,   0., 178.,   1.]),\n",
       "  array([  1.,  77.,   0.,   0.,   0.,   1.,   0.,   0., 176.,   1.]),\n",
       "  array([  0.,  80.,   0.,   0.,   1.,   0.,   0.,   0., 174.,   1.]),\n",
       "  array([  0.,  82.,   0.,   0.,   1.,   0.,   0.,   0., 172.,   1.]),\n",
       "  array([  0.,  84.,   0.,   0.,   1.,   0.,   0.,   0., 170.,   1.]),\n",
       "  array([  0.,  85.,   1.,   1.,   0.,   0.,   0.,   0., 168.,   1.]),\n",
       "  array([  0.,  87.,   1.,   1.,   0.,   0.,   0.,   0., 165.,   2.]),\n",
       "  array([  1.,  88.,   1.,   2.,   0.,   0.,   0.,   0., 162.,   2.]),\n",
       "  array([  1.,  91.,   0.,   2.,   0.,   0.,   0.,   0., 160.,   2.]),\n",
       "  array([  1.,  93.,   0.,   2.,   0.,   0.,   0.,   0., 159.,   1.]),\n",
       "  array([  2.,  94.,   0.,   2.,   0.,   0.,   0.,   0., 157.,   1.]),\n",
       "  array([  2.,  96.,   0.,   2.,   0.,   0.,   0.,   0., 155.,   1.]),\n",
       "  array([  1.,  99.,   0.,   2.,   0.,   0.,   0.,   1., 152.,   1.]),\n",
       "  array([  1., 101.,   0.,   1.,   1.,   0.,   0.,   1., 149.,   2.]),\n",
       "  array([  1., 103.,   0.,   1.,   1.,   1.,   0.,   1., 147.,   1.]),\n",
       "  array([  2., 105.,   0.,   1.,   0.,   1.,   1.,   0., 145.,   1.]),\n",
       "  array([  1., 108.,   0.,   1.,   0.,   1.,   1.,   0., 143.,   1.]),\n",
       "  array([  1., 110.,   1.,   0.,   0.,   1.,   1.,   0., 141.,   1.]),\n",
       "  array([  1., 112.,   1.,   0.,   0.,   0.,   2.,   0., 139.,   1.]),\n",
       "  array([  1., 114.,   1.,   0.,   0.,   0.,   2.,   0., 137.,   1.]),\n",
       "  array([  1., 117.,   0.,   0.,   0.,   0.,   3.,   0., 134.,   1.]),\n",
       "  array([  2., 119.,   0.,   0.,   0.,   0.,   2.,   0., 133.,   0.]),\n",
       "  array([  2., 121.,   0.,   0.,   0.,   0.,   0.,   2., 131.,   0.]),\n",
       "  array([  2., 123.,   0.,   0.,   0.,   0.,   1.,   1., 129.,   0.]),\n",
       "  array([  1., 126.,   0.,   0.,   0.,   0.,   1.,   1., 127.,   0.]),\n",
       "  array([  1., 128.,   0.,   0.,   0.,   0.,   1.,   1., 125.,   0.]),\n",
       "  array([  1., 130.,   0.,   0.,   0.,   0.,   1.,   0., 124.,   0.]),\n",
       "  array([  1., 132.,   0.,   0.,   0.,   1.,   0.,   1., 121.,   0.]),\n",
       "  array([  1., 135.,   0.,   0.,   0.,   1.,   0.,   0., 119.,   0.]),\n",
       "  array([  1., 137.,   0.,   0.,   1.,   0.,   0.,   0., 116.,   1.]),\n",
       "  array([  1., 139.,   0.,   0.,   1.,   0.,   0.,   0., 114.,   1.]),\n",
       "  array([  0., 142.,   0.,   1.,   0.,   0.,   0.,   0., 112.,   1.]),\n",
       "  array([  0., 144.,   0.,   1.,   0.,   0.,   0.,   0., 110.,   1.]),\n",
       "  array([  0., 146.,   0.,   1.,   0.,   0.,   0.,   0., 108.,   1.]),\n",
       "  array([  0., 147.,   3.,   0.,   0.,   0.,   0.,   0., 105.,   1.]),\n",
       "  array([  0., 150.,   2.,   0.,   0.,   0.,   0.,   0., 102.,   2.]),\n",
       "  array([  0., 152.,   2.,   0.,   0.,   0.,   0.,   0., 101.,   1.]),\n",
       "  array([  0., 154.,   1.,   1.,   0.,   0.,   0.,   0.,  99.,   1.]),\n",
       "  array([  1., 155.,   1.,   1.,   0.,   0.,   0.,   0.,  97.,   1.]),\n",
       "  array([  1., 157.,   0.,   2.,   0.,   0.,   0.,   1.,  93.,   2.]),\n",
       "  array([  1., 159.,   0.,   2.,   1.,   0.,   0.,   1.,  91.,   1.]),\n",
       "  array([  2., 161.,   0.,   2.,   0.,   0.,   0.,   1.,  89.,   1.]),\n",
       "  array([  1., 164.,   0.,   1.,   1.,   0.,   1.,   0.,  87.,   1.]),\n",
       "  array([  1., 166.,   1.,   0.,   1.,   0.,   1.,   0.,  85.,   1.]),\n",
       "  array([  1., 168.,   1.,   0.,   0.,   1.,   1.,   0.,  83.,   1.]),\n",
       "  array([  1., 170.,   1.,   0.,   0.,   1.,   1.,   0.,  79.,   3.]),\n",
       "  array([  1., 173.,   0.,   0.,   0.,   1.,   2.,   0.,  78.,   1.]),\n",
       "  array([  2., 175.,   0.,   0.,   0.,   0.,   2.,   0.,  76.,   1.]),\n",
       "  array([  1., 178.,   0.,   0.,   0.,   0.,   2.,   0.,  73.,   2.]),\n",
       "  array([  2., 179.,   0.,   0.,   0.,   0.,   2.,   0.,  72.,   1.]),\n",
       "  array([  2., 181.,   0.,   0.,   0.,   0.,   2.,   0.,  70.,   1.]),\n",
       "  array([  2., 183.,   0.,   0.,   0.,   0.,   1.,   1.,  69.,   0.]),\n",
       "  array([  1., 186.,   0.,   0.,   0.,   0.,   2.,   1.,  66.,   0.]),\n",
       "  array([  1., 189.,   0.,   0.,   0.,   1.,   0.,   1.,  64.,   0.]),\n",
       "  array([  1., 191.,   0.,   0.,   0.,   1.,   0.,   0.,  63.,   0.]),\n",
       "  array([  1., 193.,   0.,   0.,   0.,   1.,   0.,   0.,  61.,   0.]),\n",
       "  array([  1., 195.,   0.,   0.,   1.,   0.,   0.,   0.,  59.,   0.]),\n",
       "  array([  1., 197.,   0.,   0.,   1.,   0.,   0.,   0.,  57.,   0.]),\n",
       "  array([  1., 199.,   0.,   1.,   0.,   0.,   0.,   0.,  54.,   1.]),\n",
       "  array([  0., 203.,   0.,   1.,   0.,   0.,   0.,   0.,  51.,   1.]),\n",
       "  array([  0., 205.,   1.,   0.,   0.,   0.,   0.,   0.,  49.,   1.]),\n",
       "  array([  0., 207.,   1.,   0.,   0.,   0.,   0.,   0.,  47.,   1.]),\n",
       "  array([  0., 208.,   2.,   0.,   0.,   0.,   0.,   0.,  46.,   0.]),\n",
       "  array([  0., 210.,   2.,   0.,   0.,   0.,   0.,   0.,  43.,   1.]),\n",
       "  array([  0., 212.,   2.,   0.,   0.,   0.,   0.,   0.,  40.,   2.]),\n",
       "  array([  0., 214.,   3.,   0.,   0.,   0.,   0.,   0.,  38.,   1.]),\n",
       "  array([  1., 216.,   2.,   0.,   0.,   0.,   0.,   1.,  35.,   1.]),\n",
       "  array([  1., 218.,   2.,   0.,   0.,   0.,   0.,   1.,  33.,   1.]),\n",
       "  array([  1., 220.,   1.,   1.,   0.,   0.,   1.,   0.,  31.,   1.]),\n",
       "  array([  1., 222.,   1.,   1.,   0.,   0.,   1.,   0.,  29.,   1.]),\n",
       "  array([  1., 224.,   1.,   1.,   0.,   0.,   1.,   0.,  27.,   1.]),\n",
       "  array([  1., 226.,   1.,   0.,   1.,   0.,   1.,   0.,  24.,   2.]),\n",
       "  array([  1., 228.,   1.,   0.,   1.,   2.,   0.,   0.,  22.,   1.]),\n",
       "  array([  2., 231.,   0.,   0.,   0.,   2.,   0.,   0.,  20.,   1.]),\n",
       "  array([  1., 234.,   0.,   0.,   0.,   2.,   0.,   0.,  17.,   2.]),\n",
       "  array([  1., 236.,   0.,   0.,   0.,   2.,   0.,   0.,  15.,   2.]),\n",
       "  array([  2., 237.,   0.,   0.,   0.,   2.,   0.,   0.,  13.,   2.]),\n",
       "  array([  2., 239.,   0.,   0.,   0.,   1.,   1.,   0.,  11.,   2.]),\n",
       "  array([  2., 241.,   0.,   0.,   0.,   1.,   2.,   0.,   9.,   1.]),\n",
       "  array([  3., 243.,   0.,   0.,   0.,   1.,   1.,   0.,   7.,   1.]),\n",
       "  array([  1., 247.,   0.,   0.,   0.,   1.,   0.,   1.,   5.,   1.]),\n",
       "  array([  1., 249.,   0.,   0.,   0.,   1.,   0.,   1.,   3.,   1.]),\n",
       "  array([  1., 251.,   0.,   0.,   1.,   0.,   0.,   2.,   1.,   0.]),\n",
       "  array([  1., 253.,   0.,   0.,   1.,   0.,   0.,   0.,   1.,   0.]),\n",
       "  array([  0., 256.,   0.,   0.,   0.,   0.,   0.,   0.,   0.,   0.]),\n",
       "  array([  0., 256.,   0.,   0.,   0.,   0.,   0.,   0.,   0.,   0.]),\n",
       "  array([  0., 256.,   0.,   0.,   0.,   0.,   0.,   0.,   0.,   0.]),\n",
       "  array([  0., 256.,   0.,   0.,   0.,   0.,   0.,   0.,   0.,   0.]),\n",
       "  array([  0., 256.,   0.,   0.,   0.,   0.,   0.,   0.,   0.,   0.]),\n",
       "  array([  0., 256.,   0.,   0.,   0.,   0.,   0.,   0.,   0.,   0.]),\n",
       "  array([  0., 256.,   0.,   0.,   0.,   0.,   0.,   0.,   0.,   0.]),\n",
       "  array([  0., 256.,   0.,   0.,   0.,   0.,   0.,   0.,   0.,   0.]),\n",
       "  array([  0., 256.,   0.,   0.,   0.,   0.,   0.,   0.,   0.,   0.]),\n",
       "  array([  0., 256.,   0.,   0.,   0.,   0.,   0.,   0.,   0.,   0.]),\n",
       "  array([  0., 256.,   0.,   0.,   0.,   0.,   0.,   0.,   0.,   0.]),\n",
       "  array([  0., 256.,   0.,   0.,   0.,   0.,   0.,   0.,   0.,   0.]),\n",
       "  array([  0., 256.,   0.,   0.,   0.,   0.,   0.,   0.,   0.,   0.]),\n",
       "  array([  0., 256.,   0.,   0.,   0.,   0.,   0.,   0.,   0.,   0.]),\n",
       "  array([  0., 256.,   0.,   0.,   0.,   0.,   0.,   0.,   0.,   0.]),\n",
       "  array([  0., 256.,   0.,   0.,   0.,   0.,   0.,   0.,   0.,   0.]),\n",
       "  array([  0., 256.,   0.,   0.,   0.,   0.,   0.,   0.,   0.,   0.]),\n",
       "  array([  0., 256.,   0.,   0.,   0.,   0.,   0.,   0.,   0.,   0.]),\n",
       "  array([  0., 256.,   0.,   0.,   0.,   0.,   0.,   0.,   0.,   0.]),\n",
       "  array([  0., 256.,   0.,   0.,   0.,   0.,   0.,   0.,   0.,   0.]),\n",
       "  array([  0., 256.,   0.,   0.,   0.,   0.,   0.,   0.,   0.,   0.]),\n",
       "  array([  0., 256.,   0.,   0.,   0.,   0.,   0.,   0.,   0.,   0.]),\n",
       "  array([  0., 256.,   0.,   0.,   0.,   0.,   0.,   0.,   0.,   0.]),\n",
       "  array([  0., 256.,   0.,   0.,   0.,   0.,   0.,   0.,   0.,   0.]),\n",
       "  array([  1., 255.,   0.,   0.,   0.,   0.,   0.,   0.,   0.,   0.]),\n",
       "  array([  1., 255.,   0.,   0.,   0.,   0.,   0.,   0.,   0.,   0.]),\n",
       "  array([  0., 256.,   0.,   0.,   0.,   0.,   0.,   0.,   0.,   0.]),\n",
       "  array([  1., 254.,   0.,   0.,   0.,   1.,   0.,   0.,   0.,   0.]),\n",
       "  array([  0., 255.,   0.,   0.,   0.,   1.,   0.,   0.,   0.,   0.]),\n",
       "  array([  1., 253.,   0.,   0.,   0.,   1.,   0.,   0.,   0.,   1.]),\n",
       "  array([  0., 254.,   0.,   0.,   0.,   1.,   0.,   0.,   0.,   1.]),\n",
       "  array([  1., 252.,   0.,   0.,   0.,   1.,   0.,   0.,   1.,   1.]),\n",
       "  array([  1., 252.,   0.,   0.,   0.,   1.,   0.,   0.,   1.,   1.]),\n",
       "  array([  1., 252.,   0.,   0.,   0.,   1.,   0.,   0.,   1.,   1.]),\n",
       "  array([  1., 251.,   0.,   0.,   0.,   1.,   0.,   0.,   2.,   1.]),\n",
       "  array([  1., 251.,   0.,   0.,   0.,   1.,   0.,   0.,   2.,   1.]),\n",
       "  array([  1., 250.,   0.,   0.,   0.,   1.,   0.,   0.,   4.,   0.]),\n",
       "  array([  1., 250.,   0.,   0.,   0.,   0.,   1.,   0.,   3.,   1.]),\n",
       "  array([  1., 250.,   0.,   0.,   0.,   1.,   0.,   0.,   3.,   1.]),\n",
       "  array([  0., 250.,   0.,   0.,   0.,   1.,   0.,   0.,   5.,   0.]),\n",
       "  array([  1., 249.,   0.,   0.,   0.,   0.,   1.,   0.,   4.,   1.]),\n",
       "  array([  1., 248.,   0.,   0.,   0.,   1.,   0.,   0.,   6.,   0.]),\n",
       "  array([  1., 248.,   0.,   0.,   0.,   0.,   0.,   1.,   5.,   1.]),\n",
       "  array([  1., 248.,   0.,   0.,   0.,   0.,   1.,   0.,   6.,   0.]),\n",
       "  array([  0., 248.,   0.,   0.,   1.,   0.,   0.,   0.,   7.,   0.]),\n",
       "  array([  1., 247.,   0.,   0.,   0.,   0.,   0.,   1.,   6.,   1.]),\n",
       "  array([  0., 247.,   0.,   0.,   1.,   0.,   0.,   1.,   7.,   0.]),\n",
       "  array([  1., 246.,   0.,   0.,   0.,   0.,   0.,   1.,   7.,   1.]),\n",
       "  array([  0., 246.,   0.,   0.,   1.,   0.,   0.,   1.,   8.,   0.]),\n",
       "  array([  0., 246.,   0.,   0.,   0.,   0.,   0.,   0.,  10.,   0.]),\n",
       "  array([  1., 245.,   0.,   0.,   0.,   0.,   0.,   1.,   9.,   0.]),\n",
       "  array([  0., 245.,   0.,   1.,   0.,   0.,   0.,   1.,   9.,   0.]),\n",
       "  array([  1., 244.,   0.,   0.,   0.,   0.,   0.,   0.,  11.,   0.]),\n",
       "  array([  0., 244.,   0.,   1.,   0.,   0.,   0.,   1.,  10.,   0.]),\n",
       "  array([  0., 244.,   0.,   0.,   0.,   0.,   0.,   0.,  12.,   0.]),\n",
       "  array([  1., 243.,   0.,   0.,   0.,   0.,   0.,   1.,  11.,   0.]),\n",
       "  array([  0., 243.,   1.,   0.,   0.,   0.,   0.,   1.,  11.,   0.]),\n",
       "  array([  1., 242.,   0.,   0.,   0.,   0.,   0.,   0.,  13.,   0.]),\n",
       "  array([  0., 242.,   1.,   0.,   0.,   0.,   0.,   1.,  12.,   0.]),\n",
       "  array([  0., 242.,   0.,   0.,   0.,   0.,   0.,   0.,  14.,   0.]),\n",
       "  array([  0., 242.,   0.,   0.,   0.,   0.,   0.,   0.,  14.,   0.]),\n",
       "  array([  0., 241.,   0.,   0.,   0.,   0.,   0.,   0.,  15.,   0.]),\n",
       "  array([  0., 241.,   0.,   0.,   0.,   0.,   0.,   0.,  15.,   0.]),\n",
       "  array([  0., 241.,   0.,   0.,   0.,   0.,   0.,   0.,  15.,   0.]),\n",
       "  array([  0., 240.,   0.,   0.,   0.,   0.,   0.,   0.,  16.,   0.]),\n",
       "  array([  0., 240.,   0.,   0.,   0.,   0.,   0.,   0.,  16.,   0.])],\n",
       " array([-12192.999 , -10742.398 ,  -9291.797 ,  -7841.1963,  -6390.5957,\n",
       "         -4939.9946,  -3489.3938,  -2038.7928,   -588.192 ,    862.4089,\n",
       "          2313.0098], dtype=float32),\n",
       " <a list of 256 Lists of Patches objects>)"
      ]
     },
     "execution_count": 135,
     "metadata": {
      "tags": []
     },
     "output_type": "execute_result"
    },
    {
     "data": {
      "image/png": "[encoded data removed]",
      "text/plain": [
       "<Figure size 432x288 with 1 Axes>"
      ]
     },
     "metadata": {
      "tags": []
     },
     "output_type": "display_data"
    }
   ],
   "source": [
    "plt.hist(img)"
   ]
  },
  {
   "cell_type": "code",
   "execution_count": null,
   "metadata": {
    "colab": {},
    "colab_type": "code",
    "id": "-lL3clN-1zSf"
   },
   "outputs": [],
   "source": [
    "img[img<0] =0\n",
    "img[img>1] =0"
   ]
  },
  {
   "cell_type": "code",
   "execution_count": null,
   "metadata": {
    "colab": {
     "base_uri": "https://localhost:8080/",
     "height": 34
    },
    "colab_type": "code",
    "id": "AnSLfZfl0Ovr",
    "outputId": "5bdf7c64-facd-4f99-a1c2-4fdaabd4f0ec"
   },
   "outputs": [
    {
     "name": "stdout",
     "output_type": "stream",
     "text": [
      "Max = 0.89693296  Min = 0.0  Mean = 0.041029964\n"
     ]
    }
   ],
   "source": [
    "print('Max =',np.max(img),' Min =',np.min(img),' Mean =',np.mean(img))"
   ]
  },
  {
   "cell_type": "code",
   "execution_count": null,
   "metadata": {
    "colab": {
     "base_uri": "https://localhost:8080/",
     "height": 4689
    },
    "colab_type": "code",
    "id": "uE1aXjHB0Y-A",
    "outputId": "374a6644-8642-43f5-aedd-382e6726a69e"
   },
   "outputs": [
    {
     "data": {
      "text/plain": [
       "([array([153., 103.,   0.,   0.,   0.,   0.,   0.,   0.,   0.,   0.]),\n",
       "  array([156., 100.,   0.,   0.,   0.,   0.,   0.,   0.,   0.,   0.]),\n",
       "  array([157.,  97.,   2.,   0.,   0.,   0.,   0.,   0.,   0.,   0.]),\n",
       "  array([153.,  99.,   4.,   0.,   0.,   0.,   0.,   0.,   0.,   0.]),\n",
       "  array([155.,  98.,   3.,   0.,   0.,   0.,   0.,   0.,   0.,   0.]),\n",
       "  array([156.,  97.,   3.,   0.,   0.,   0.,   0.,   0.,   0.,   0.]),\n",
       "  array([168.,  84.,   4.,   0.,   0.,   0.,   0.,   0.,   0.,   0.]),\n",
       "  array([167.,  85.,   4.,   0.,   0.,   0.,   0.,   0.,   0.,   0.]),\n",
       "  array([166.,  88.,   2.,   0.,   0.,   0.,   0.,   0.,   0.,   0.]),\n",
       "  array([169.,  82.,   5.,   0.,   0.,   0.,   0.,   0.,   0.,   0.]),\n",
       "  array([162.,  91.,   3.,   0.,   0.,   0.,   0.,   0.,   0.,   0.]),\n",
       "  array([166.,  88.,   2.,   0.,   0.,   0.,   0.,   0.,   0.,   0.]),\n",
       "  array([162.,  92.,   2.,   0.,   0.,   0.,   0.,   0.,   0.,   0.]),\n",
       "  array([164.,  90.,   2.,   0.,   0.,   0.,   0.,   0.,   0.,   0.]),\n",
       "  array([165.,  90.,   1.,   0.,   0.,   0.,   0.,   0.,   0.,   0.]),\n",
       "  array([172.,  82.,   2.,   0.,   0.,   0.,   0.,   0.,   0.,   0.]),\n",
       "  array([180.,  73.,   3.,   0.,   0.,   0.,   0.,   0.,   0.,   0.]),\n",
       "  array([177.,  78.,   1.,   0.,   0.,   0.,   0.,   0.,   0.,   0.]),\n",
       "  array([176.,  80.,   0.,   0.,   0.,   0.,   0.,   0.,   0.,   0.]),\n",
       "  array([167.,  89.,   0.,   0.,   0.,   0.,   0.,   0.,   0.,   0.]),\n",
       "  array([171.,  85.,   0.,   0.,   0.,   0.,   0.,   0.,   0.,   0.]),\n",
       "  array([165.,  88.,   3.,   0.,   0.,   0.,   0.,   0.,   0.,   0.]),\n",
       "  array([167.,  85.,   4.,   0.,   0.,   0.,   0.,   0.,   0.,   0.]),\n",
       "  array([172.,  83.,   1.,   0.,   0.,   0.,   0.,   0.,   0.,   0.]),\n",
       "  array([179.,  74.,   3.,   0.,   0.,   0.,   0.,   0.,   0.,   0.]),\n",
       "  array([165.,  86.,   5.,   0.,   0.,   0.,   0.,   0.,   0.,   0.]),\n",
       "  array([154.,  97.,   5.,   0.,   0.,   0.,   0.,   0.,   0.,   0.]),\n",
       "  array([141., 108.,   7.,   0.,   0.,   0.,   0.,   0.,   0.,   0.]),\n",
       "  array([149., 102.,   5.,   0.,   0.,   0.,   0.,   0.,   0.,   0.]),\n",
       "  array([172.,  80.,   3.,   0.,   0.,   0.,   0.,   0.,   0.,   1.]),\n",
       "  array([155.,  97.,   4.,   0.,   0.,   0.,   0.,   0.,   0.,   0.]),\n",
       "  array([147., 102.,   7.,   0.,   0.,   0.,   0.,   0.,   0.,   0.]),\n",
       "  array([147., 102.,   6.,   0.,   0.,   0.,   0.,   0.,   0.,   1.]),\n",
       "  array([156.,  93.,   7.,   0.,   0.,   0.,   0.,   0.,   0.,   0.]),\n",
       "  array([155.,  95.,   6.,   0.,   0.,   0.,   0.,   0.,   0.,   0.]),\n",
       "  array([158.,  95.,   3.,   0.,   0.,   0.,   0.,   0.,   0.,   0.]),\n",
       "  array([156.,  97.,   3.,   0.,   0.,   0.,   0.,   0.,   0.,   0.]),\n",
       "  array([156.,  98.,   2.,   0.,   0.,   0.,   0.,   0.,   0.,   0.]),\n",
       "  array([169.,  87.,   0.,   0.,   0.,   0.,   0.,   0.,   0.,   0.]),\n",
       "  array([164.,  92.,   0.,   0.,   0.,   0.,   0.,   0.,   0.,   0.]),\n",
       "  array([173.,  83.,   0.,   0.,   0.,   0.,   0.,   0.,   0.,   0.]),\n",
       "  array([172.,  83.,   1.,   0.,   0.,   0.,   0.,   0.,   0.,   0.]),\n",
       "  array([171.,  85.,   0.,   0.,   0.,   0.,   0.,   0.,   0.,   0.]),\n",
       "  array([175.,  79.,   2.,   0.,   0.,   0.,   0.,   0.,   0.,   0.]),\n",
       "  array([169.,  83.,   4.,   0.,   0.,   0.,   0.,   0.,   0.,   0.]),\n",
       "  array([176.,  77.,   3.,   0.,   0.,   0.,   0.,   0.,   0.,   0.]),\n",
       "  array([186.,  66.,   4.,   0.,   0.,   0.,   0.,   0.,   0.,   0.]),\n",
       "  array([177.,  79.,   0.,   0.,   0.,   0.,   0.,   0.,   0.,   0.]),\n",
       "  array([161.,  94.,   1.,   0.,   0.,   0.,   0.,   0.,   0.,   0.]),\n",
       "  array([157.,  99.,   0.,   0.,   0.,   0.,   0.,   0.,   0.,   0.]),\n",
       "  array([165.,  89.,   2.,   0.,   0.,   0.,   0.,   0.,   0.,   0.]),\n",
       "  array([171.,  85.,   0.,   0.,   0.,   0.,   0.,   0.,   0.,   0.]),\n",
       "  array([186.,  67.,   3.,   0.,   0.,   0.,   0.,   0.,   0.,   0.]),\n",
       "  array([185.,  65.,   6.,   0.,   0.,   0.,   0.,   0.,   0.,   0.]),\n",
       "  array([182.,  71.,   3.,   0.,   0.,   0.,   0.,   0.,   0.,   0.]),\n",
       "  array([181.,  73.,   2.,   0.,   0.,   0.,   0.,   0.,   0.,   0.]),\n",
       "  array([183.,  73.,   0.,   0.,   0.,   0.,   0.,   0.,   0.,   0.]),\n",
       "  array([168.,  87.,   1.,   0.,   0.,   0.,   0.,   0.,   0.,   0.]),\n",
       "  array([161.,  93.,   2.,   0.,   0.,   0.,   0.,   0.,   0.,   0.]),\n",
       "  array([165.,  89.,   2.,   0.,   0.,   0.,   0.,   0.,   0.,   0.]),\n",
       "  array([163.,  92.,   1.,   0.,   0.,   0.,   0.,   0.,   0.,   0.]),\n",
       "  array([157.,  99.,   0.,   0.,   0.,   0.,   0.,   0.,   0.,   0.]),\n",
       "  array([154.,  99.,   3.,   0.,   0.,   0.,   0.,   0.,   0.,   0.]),\n",
       "  array([153.,  96.,   7.,   0.,   0.,   0.,   0.,   0.,   0.,   0.]),\n",
       "  array([168.,  83.,   5.,   0.,   0.,   0.,   0.,   0.,   0.,   0.]),\n",
       "  array([165.,  91.,   0.,   0.,   0.,   0.,   0.,   0.,   0.,   0.]),\n",
       "  array([170.,  84.,   2.,   0.,   0.,   0.,   0.,   0.,   0.,   0.]),\n",
       "  array([169.,  85.,   2.,   0.,   0.,   0.,   0.,   0.,   0.,   0.]),\n",
       "  array([168.,  87.,   1.,   0.,   0.,   0.,   0.,   0.,   0.,   0.]),\n",
       "  array([161.,  94.,   1.,   0.,   0.,   0.,   0.,   0.,   0.,   0.]),\n",
       "  array([155., 101.,   0.,   0.,   0.,   0.,   0.,   0.,   0.,   0.]),\n",
       "  array([159.,  95.,   2.,   0.,   0.,   0.,   0.,   0.,   0.,   0.]),\n",
       "  array([159.,  95.,   2.,   0.,   0.,   0.,   0.,   0.,   0.,   0.]),\n",
       "  array([155., 101.,   0.,   0.,   0.,   0.,   0.,   0.,   0.,   0.]),\n",
       "  array([154., 101.,   0.,   0.,   1.,   0.,   0.,   0.,   0.,   0.]),\n",
       "  array([151., 102.,   3.,   0.,   0.,   0.,   0.,   0.,   0.,   0.]),\n",
       "  array([153., 101.,   2.,   0.,   0.,   0.,   0.,   0.,   0.,   0.]),\n",
       "  array([156.,  98.,   2.,   0.,   0.,   0.,   0.,   0.,   0.,   0.]),\n",
       "  array([161.,  94.,   1.,   0.,   0.,   0.,   0.,   0.,   0.,   0.]),\n",
       "  array([161.,  93.,   2.,   0.,   0.,   0.,   0.,   0.,   0.,   0.]),\n",
       "  array([152., 104.,   0.,   0.,   0.,   0.,   0.,   0.,   0.,   0.]),\n",
       "  array([149., 107.,   0.,   0.,   0.,   0.,   0.,   0.,   0.,   0.]),\n",
       "  array([161.,  95.,   0.,   0.,   0.,   0.,   0.,   0.,   0.,   0.]),\n",
       "  array([161.,  94.,   1.,   0.,   0.,   0.,   0.,   0.,   0.,   0.]),\n",
       "  array([161.,  93.,   2.,   0.,   0.,   0.,   0.,   0.,   0.,   0.]),\n",
       "  array([169.,  87.,   0.,   0.,   0.,   0.,   0.,   0.,   0.,   0.]),\n",
       "  array([173.,  83.,   0.,   0.,   0.,   0.,   0.,   0.,   0.,   0.]),\n",
       "  array([170.,  85.,   1.,   0.,   0.,   0.,   0.,   0.,   0.,   0.]),\n",
       "  array([168.,  85.,   3.,   0.,   0.,   0.,   0.,   0.,   0.,   0.]),\n",
       "  array([170.,  84.,   2.,   0.,   0.,   0.,   0.,   0.,   0.,   0.]),\n",
       "  array([175.,  79.,   2.,   0.,   0.,   0.,   0.,   0.,   0.,   0.]),\n",
       "  array([174.,  80.,   2.,   0.,   0.,   0.,   0.,   0.,   0.,   0.]),\n",
       "  array([175.,  80.,   1.,   0.,   0.,   0.,   0.,   0.,   0.,   0.]),\n",
       "  array([160.,  94.,   2.,   0.,   0.,   0.,   0.,   0.,   0.,   0.]),\n",
       "  array([160.,  94.,   2.,   0.,   0.,   0.,   0.,   0.,   0.,   0.]),\n",
       "  array([172.,  84.,   0.,   0.,   0.,   0.,   0.,   0.,   0.,   0.]),\n",
       "  array([173.,  79.,   4.,   0.,   0.,   0.,   0.,   0.,   0.,   0.]),\n",
       "  array([177.,  78.,   1.,   0.,   0.,   0.,   0.,   0.,   0.,   0.]),\n",
       "  array([180.,  74.,   2.,   0.,   0.,   0.,   0.,   0.,   0.,   0.]),\n",
       "  array([177.,  76.,   3.,   0.,   0.,   0.,   0.,   0.,   0.,   0.]),\n",
       "  array([180.,  74.,   2.,   0.,   0.,   0.,   0.,   0.,   0.,   0.]),\n",
       "  array([173.,  79.,   4.,   0.,   0.,   0.,   0.,   0.,   0.,   0.]),\n",
       "  array([171.,  80.,   5.,   0.,   0.,   0.,   0.,   0.,   0.,   0.]),\n",
       "  array([172.,  78.,   6.,   0.,   0.,   0.,   0.,   0.,   0.,   0.]),\n",
       "  array([167.,  85.,   3.,   0.,   0.,   1.,   0.,   0.,   0.,   0.]),\n",
       "  array([170.,  83.,   3.,   0.,   0.,   0.,   0.,   0.,   0.,   0.]),\n",
       "  array([171.,  84.,   1.,   0.,   0.,   0.,   0.,   0.,   0.,   0.]),\n",
       "  array([173.,  82.,   1.,   0.,   0.,   0.,   0.,   0.,   0.,   0.]),\n",
       "  array([175.,  81.,   0.,   0.,   0.,   0.,   0.,   0.,   0.,   0.]),\n",
       "  array([180.,  76.,   0.,   0.,   0.,   0.,   0.,   0.,   0.,   0.]),\n",
       "  array([180.,  76.,   0.,   0.,   0.,   0.,   0.,   0.,   0.,   0.]),\n",
       "  array([169.,  86.,   1.,   0.,   0.,   0.,   0.,   0.,   0.,   0.]),\n",
       "  array([172.,  83.,   1.,   0.,   0.,   0.,   0.,   0.,   0.,   0.]),\n",
       "  array([168.,  84.,   4.,   0.,   0.,   0.,   0.,   0.,   0.,   0.]),\n",
       "  array([164.,  89.,   3.,   0.,   0.,   0.,   0.,   0.,   0.,   0.]),\n",
       "  array([170.,  83.,   3.,   0.,   0.,   0.,   0.,   0.,   0.,   0.]),\n",
       "  array([185.,  69.,   2.,   0.,   0.,   0.,   0.,   0.,   0.,   0.]),\n",
       "  array([193.,  63.,   0.,   0.,   0.,   0.,   0.,   0.,   0.,   0.]),\n",
       "  array([190.,  66.,   0.,   0.,   0.,   0.,   0.,   0.,   0.,   0.]),\n",
       "  array([187.,  69.,   0.,   0.,   0.,   0.,   0.,   0.,   0.,   0.]),\n",
       "  array([181.,  74.,   1.,   0.,   0.,   0.,   0.,   0.,   0.,   0.]),\n",
       "  array([180.,  75.,   1.,   0.,   0.,   0.,   0.,   0.,   0.,   0.]),\n",
       "  array([184.,  72.,   0.,   0.,   0.,   0.,   0.,   0.,   0.,   0.]),\n",
       "  array([189.,  67.,   0.,   0.,   0.,   0.,   0.,   0.,   0.,   0.]),\n",
       "  array([198.,  58.,   0.,   0.,   0.,   0.,   0.,   0.,   0.,   0.]),\n",
       "  array([209.,  47.,   0.,   0.,   0.,   0.,   0.,   0.,   0.,   0.]),\n",
       "  array([211.,  45.,   0.,   0.,   0.,   0.,   0.,   0.,   0.,   0.]),\n",
       "  array([209.,  45.,   2.,   0.,   0.,   0.,   0.,   0.,   0.,   0.]),\n",
       "  array([193.,  62.,   1.,   0.,   0.,   0.,   0.,   0.,   0.,   0.]),\n",
       "  array([194.,  62.,   0.,   0.,   0.,   0.,   0.,   0.,   0.,   0.]),\n",
       "  array([200.,  56.,   0.,   0.,   0.,   0.,   0.,   0.,   0.,   0.]),\n",
       "  array([207.,  47.,   2.,   0.,   0.,   0.,   0.,   0.,   0.,   0.]),\n",
       "  array([212.,  42.,   2.,   0.,   0.,   0.,   0.,   0.,   0.,   0.]),\n",
       "  array([214.,  37.,   4.,   0.,   0.,   0.,   0.,   0.,   1.,   0.]),\n",
       "  array([209.,  45.,   2.,   0.,   0.,   0.,   0.,   0.,   0.,   0.]),\n",
       "  array([213.,  42.,   0.,   1.,   0.,   0.,   0.,   0.,   0.,   0.]),\n",
       "  array([216.,  40.,   0.,   0.,   0.,   0.,   0.,   0.,   0.,   0.]),\n",
       "  array([217.,  39.,   0.,   0.,   0.,   0.,   0.,   0.,   0.,   0.]),\n",
       "  array([209.,  47.,   0.,   0.,   0.,   0.,   0.,   0.,   0.,   0.]),\n",
       "  array([214.,  41.,   1.,   0.,   0.,   0.,   0.,   0.,   0.,   0.]),\n",
       "  array([215.,  41.,   0.,   0.,   0.,   0.,   0.,   0.,   0.,   0.]),\n",
       "  array([213.,  43.,   0.,   0.,   0.,   0.,   0.,   0.,   0.,   0.]),\n",
       "  array([210.,  46.,   0.,   0.,   0.,   0.,   0.,   0.,   0.,   0.]),\n",
       "  array([207.,  48.,   1.,   0.,   0.,   0.,   0.,   0.,   0.,   0.]),\n",
       "  array([220.,  35.,   1.,   0.,   0.,   0.,   0.,   0.,   0.,   0.]),\n",
       "  array([222.,  34.,   0.,   0.,   0.,   0.,   0.,   0.,   0.,   0.]),\n",
       "  array([231.,  25.,   0.,   0.,   0.,   0.,   0.,   0.,   0.,   0.]),\n",
       "  array([227.,  29.,   0.,   0.,   0.,   0.,   0.,   0.,   0.,   0.]),\n",
       "  array([226.,  30.,   0.,   0.,   0.,   0.,   0.,   0.,   0.,   0.]),\n",
       "  array([226.,  30.,   0.,   0.,   0.,   0.,   0.,   0.,   0.,   0.]),\n",
       "  array([221.,  35.,   0.,   0.,   0.,   0.,   0.,   0.,   0.,   0.]),\n",
       "  array([226.,  30.,   0.,   0.,   0.,   0.,   0.,   0.,   0.,   0.]),\n",
       "  array([224.,  31.,   0.,   0.,   0.,   0.,   1.,   0.,   0.,   0.]),\n",
       "  array([219.,  37.,   0.,   0.,   0.,   0.,   0.,   0.,   0.,   0.]),\n",
       "  array([215.,  41.,   0.,   0.,   0.,   0.,   0.,   0.,   0.,   0.]),\n",
       "  array([219.,  37.,   0.,   0.,   0.,   0.,   0.,   0.,   0.,   0.]),\n",
       "  array([224.,  32.,   0.,   0.,   0.,   0.,   0.,   0.,   0.,   0.]),\n",
       "  array([229.,  27.,   0.,   0.,   0.,   0.,   0.,   0.,   0.,   0.]),\n",
       "  array([222.,  34.,   0.,   0.,   0.,   0.,   0.,   0.,   0.,   0.]),\n",
       "  array([219.,  37.,   0.,   0.,   0.,   0.,   0.,   0.,   0.,   0.]),\n",
       "  array([227.,  29.,   0.,   0.,   0.,   0.,   0.,   0.,   0.,   0.]),\n",
       "  array([230.,  26.,   0.,   0.,   0.,   0.,   0.,   0.,   0.,   0.]),\n",
       "  array([234.,  21.,   0.,   0.,   0.,   0.,   0.,   0.,   0.,   1.]),\n",
       "  array([237.,  17.,   0.,   1.,   0.,   0.,   0.,   0.,   0.,   1.]),\n",
       "  array([237.,  18.,   0.,   0.,   0.,   1.,   0.,   0.,   0.,   0.]),\n",
       "  array([237.,  19.,   0.,   0.,   0.,   0.,   0.,   0.,   0.,   0.]),\n",
       "  array([234.,  22.,   0.,   0.,   0.,   0.,   0.,   0.,   0.,   0.]),\n",
       "  array([236.,  20.,   0.,   0.,   0.,   0.,   0.,   0.,   0.,   0.]),\n",
       "  array([238.,  18.,   0.,   0.,   0.,   0.,   0.,   0.,   0.,   0.]),\n",
       "  array([240.,  16.,   0.,   0.,   0.,   0.,   0.,   0.,   0.,   0.]),\n",
       "  array([237.,  19.,   0.,   0.,   0.,   0.,   0.,   0.,   0.,   0.]),\n",
       "  array([239.,  17.,   0.,   0.,   0.,   0.,   0.,   0.,   0.,   0.]),\n",
       "  array([239.,  17.,   0.,   0.,   0.,   0.,   0.,   0.,   0.,   0.]),\n",
       "  array([240.,  16.,   0.,   0.,   0.,   0.,   0.,   0.,   0.,   0.]),\n",
       "  array([242.,  14.,   0.,   0.,   0.,   0.,   0.,   0.,   0.,   0.]),\n",
       "  array([246.,  10.,   0.,   0.,   0.,   0.,   0.,   0.,   0.,   0.]),\n",
       "  array([251.,   5.,   0.,   0.,   0.,   0.,   0.,   0.,   0.,   0.]),\n",
       "  array([252.,   4.,   0.,   0.,   0.,   0.,   0.,   0.,   0.,   0.]),\n",
       "  array([250.,   6.,   0.,   0.,   0.,   0.,   0.,   0.,   0.,   0.]),\n",
       "  array([246.,  10.,   0.,   0.,   0.,   0.,   0.,   0.,   0.,   0.]),\n",
       "  array([250.,   6.,   0.,   0.,   0.,   0.,   0.,   0.,   0.,   0.]),\n",
       "  array([252.,   4.,   0.,   0.,   0.,   0.,   0.,   0.,   0.,   0.]),\n",
       "  array([255.,   1.,   0.,   0.,   0.,   0.,   0.,   0.,   0.,   0.]),\n",
       "  array([253.,   3.,   0.,   0.,   0.,   0.,   0.,   0.,   0.,   0.]),\n",
       "  array([254.,   2.,   0.,   0.,   0.,   0.,   0.,   0.,   0.,   0.]),\n",
       "  array([256.,   0.,   0.,   0.,   0.,   0.,   0.,   0.,   0.,   0.]),\n",
       "  array([256.,   0.,   0.,   0.,   0.,   0.,   0.,   0.,   0.,   0.]),\n",
       "  array([256.,   0.,   0.,   0.,   0.,   0.,   0.,   0.,   0.,   0.]),\n",
       "  array([256.,   0.,   0.,   0.,   0.,   0.,   0.,   0.,   0.,   0.]),\n",
       "  array([256.,   0.,   0.,   0.,   0.,   0.,   0.,   0.,   0.,   0.]),\n",
       "  array([256.,   0.,   0.,   0.,   0.,   0.,   0.,   0.,   0.,   0.]),\n",
       "  array([256.,   0.,   0.,   0.,   0.,   0.,   0.,   0.,   0.,   0.]),\n",
       "  array([256.,   0.,   0.,   0.,   0.,   0.,   0.,   0.,   0.,   0.]),\n",
       "  array([256.,   0.,   0.,   0.,   0.,   0.,   0.,   0.,   0.,   0.]),\n",
       "  array([256.,   0.,   0.,   0.,   0.,   0.,   0.,   0.,   0.,   0.]),\n",
       "  array([256.,   0.,   0.,   0.,   0.,   0.,   0.,   0.,   0.,   0.]),\n",
       "  array([256.,   0.,   0.,   0.,   0.,   0.,   0.,   0.,   0.,   0.]),\n",
       "  array([256.,   0.,   0.,   0.,   0.,   0.,   0.,   0.,   0.,   0.]),\n",
       "  array([256.,   0.,   0.,   0.,   0.,   0.,   0.,   0.,   0.,   0.]),\n",
       "  array([256.,   0.,   0.,   0.,   0.,   0.,   0.,   0.,   0.,   0.]),\n",
       "  array([256.,   0.,   0.,   0.,   0.,   0.,   0.,   0.,   0.,   0.]),\n",
       "  array([256.,   0.,   0.,   0.,   0.,   0.,   0.,   0.,   0.,   0.]),\n",
       "  array([256.,   0.,   0.,   0.,   0.,   0.,   0.,   0.,   0.,   0.]),\n",
       "  array([256.,   0.,   0.,   0.,   0.,   0.,   0.,   0.,   0.,   0.]),\n",
       "  array([256.,   0.,   0.,   0.,   0.,   0.,   0.,   0.,   0.,   0.]),\n",
       "  array([256.,   0.,   0.,   0.,   0.,   0.,   0.,   0.,   0.,   0.]),\n",
       "  array([256.,   0.,   0.,   0.,   0.,   0.,   0.,   0.,   0.,   0.]),\n",
       "  array([256.,   0.,   0.,   0.,   0.,   0.,   0.,   0.,   0.,   0.]),\n",
       "  array([256.,   0.,   0.,   0.,   0.,   0.,   0.,   0.,   0.,   0.]),\n",
       "  array([256.,   0.,   0.,   0.,   0.,   0.,   0.,   0.,   0.,   0.]),\n",
       "  array([256.,   0.,   0.,   0.,   0.,   0.,   0.,   0.,   0.,   0.]),\n",
       "  array([256.,   0.,   0.,   0.,   0.,   0.,   0.,   0.,   0.,   0.]),\n",
       "  array([256.,   0.,   0.,   0.,   0.,   0.,   0.,   0.,   0.,   0.]),\n",
       "  array([256.,   0.,   0.,   0.,   0.,   0.,   0.,   0.,   0.,   0.]),\n",
       "  array([256.,   0.,   0.,   0.,   0.,   0.,   0.,   0.,   0.,   0.]),\n",
       "  array([256.,   0.,   0.,   0.,   0.,   0.,   0.,   0.,   0.,   0.]),\n",
       "  array([256.,   0.,   0.,   0.,   0.,   0.,   0.,   0.,   0.,   0.]),\n",
       "  array([256.,   0.,   0.,   0.,   0.,   0.,   0.,   0.,   0.,   0.]),\n",
       "  array([256.,   0.,   0.,   0.,   0.,   0.,   0.,   0.,   0.,   0.]),\n",
       "  array([256.,   0.,   0.,   0.,   0.,   0.,   0.,   0.,   0.,   0.]),\n",
       "  array([256.,   0.,   0.,   0.,   0.,   0.,   0.,   0.,   0.,   0.]),\n",
       "  array([256.,   0.,   0.,   0.,   0.,   0.,   0.,   0.,   0.,   0.]),\n",
       "  array([256.,   0.,   0.,   0.,   0.,   0.,   0.,   0.,   0.,   0.]),\n",
       "  array([256.,   0.,   0.,   0.,   0.,   0.,   0.,   0.,   0.,   0.]),\n",
       "  array([256.,   0.,   0.,   0.,   0.,   0.,   0.,   0.,   0.,   0.]),\n",
       "  array([256.,   0.,   0.,   0.,   0.,   0.,   0.,   0.,   0.,   0.]),\n",
       "  array([256.,   0.,   0.,   0.,   0.,   0.,   0.,   0.,   0.,   0.]),\n",
       "  array([255.,   1.,   0.,   0.,   0.,   0.,   0.,   0.,   0.,   0.]),\n",
       "  array([255.,   1.,   0.,   0.,   0.,   0.,   0.,   0.,   0.,   0.]),\n",
       "  array([254.,   2.,   0.,   0.,   0.,   0.,   0.,   0.,   0.,   0.]),\n",
       "  array([254.,   2.,   0.,   0.,   0.,   0.,   0.,   0.,   0.,   0.]),\n",
       "  array([254.,   2.,   0.,   0.,   0.,   0.,   0.,   0.,   0.,   0.]),\n",
       "  array([253.,   3.,   0.,   0.,   0.,   0.,   0.,   0.,   0.,   0.]),\n",
       "  array([253.,   3.,   0.,   0.,   0.,   0.,   0.,   0.,   0.,   0.]),\n",
       "  array([256.,   0.,   0.,   0.,   0.,   0.,   0.,   0.,   0.,   0.]),\n",
       "  array([256.,   0.,   0.,   0.,   0.,   0.,   0.,   0.,   0.,   0.]),\n",
       "  array([256.,   0.,   0.,   0.,   0.,   0.,   0.,   0.,   0.,   0.]),\n",
       "  array([256.,   0.,   0.,   0.,   0.,   0.,   0.,   0.,   0.,   0.]),\n",
       "  array([256.,   0.,   0.,   0.,   0.,   0.,   0.,   0.,   0.,   0.]),\n",
       "  array([255.,   1.,   0.,   0.,   0.,   0.,   0.,   0.,   0.,   0.]),\n",
       "  array([255.,   1.,   0.,   0.,   0.,   0.,   0.,   0.,   0.,   0.]),\n",
       "  array([253.,   3.,   0.,   0.,   0.,   0.,   0.,   0.,   0.,   0.]),\n",
       "  array([249.,   7.,   0.,   0.,   0.,   0.,   0.,   0.,   0.,   0.]),\n",
       "  array([250.,   6.,   0.,   0.,   0.,   0.,   0.,   0.,   0.,   0.]),\n",
       "  array([250.,   6.,   0.,   0.,   0.,   0.,   0.,   0.,   0.,   0.]),\n",
       "  array([254.,   2.,   0.,   0.,   0.,   0.,   0.,   0.,   0.,   0.]),\n",
       "  array([253.,   3.,   0.,   0.,   0.,   0.,   0.,   0.,   0.,   0.]),\n",
       "  array([250.,   6.,   0.,   0.,   0.,   0.,   0.,   0.,   0.,   0.]),\n",
       "  array([247.,   9.,   0.,   0.,   0.,   0.,   0.,   0.,   0.,   0.]),\n",
       "  array([250.,   6.,   0.,   0.,   0.,   0.,   0.,   0.,   0.,   0.]),\n",
       "  array([250.,   6.,   0.,   0.,   0.,   0.,   0.,   0.,   0.,   0.]),\n",
       "  array([248.,   7.,   0.,   0.,   0.,   0.,   1.,   0.,   0.,   0.]),\n",
       "  array([252.,   4.,   0.,   0.,   0.,   0.,   0.,   0.,   0.,   0.]),\n",
       "  array([253.,   3.,   0.,   0.,   0.,   0.,   0.,   0.,   0.,   0.]),\n",
       "  array([251.,   4.,   0.,   0.,   0.,   0.,   0.,   0.,   0.,   1.]),\n",
       "  array([249.,   6.,   1.,   0.,   0.,   0.,   0.,   0.,   0.,   0.])],\n",
       " array([0.        , 0.08969329, 0.17938659, 0.2690799 , 0.35877317,\n",
       "        0.44846648, 0.5381598 , 0.6278531 , 0.71754634, 0.80723965,\n",
       "        0.89693296], dtype=float32),\n",
       " <a list of 256 Lists of Patches objects>)"
      ]
     },
     "execution_count": 142,
     "metadata": {
      "tags": []
     },
     "output_type": "execute_result"
    },
    {
     "data": {
      "image/png": "[encoded data removed]",
      "text/plain": [
       "<Figure size 432x288 with 1 Axes>"
      ]
     },
     "metadata": {
      "tags": []
     },
     "output_type": "display_data"
    }
   ],
   "source": [
    "plt.hist(img)#, bins='auto')"
   ]
  },
  {
   "cell_type": "code",
   "execution_count": null,
   "metadata": {
    "colab": {
     "base_uri": "https://localhost:8080/",
     "height": 34
    },
    "colab_type": "code",
    "id": "7A8maTpz16Tm",
    "outputId": "09bdfe5c-5afe-4a3e-a796-f337e8c551dd"
   },
   "outputs": [
    {
     "name": "stdout",
     "output_type": "stream",
     "text": [
      "Max = 0.4851954  Min = 0.0  Mean = 0.040927533\n"
     ]
    }
   ],
   "source": [
    "img[img>0.5] =0\n",
    "print('Max =',np.max(img),' Min =',np.min(img),' Mean =',np.mean(img))"
   ]
  },
  {
   "cell_type": "code",
   "execution_count": null,
   "metadata": {
    "colab": {
     "base_uri": "https://localhost:8080/",
     "height": 4689
    },
    "colab_type": "code",
    "id": "NaGauhOi2Gw_",
    "outputId": "f7a31ad2-e226-4c72-dc1c-11e6b504b13c"
   },
   "outputs": [
    {
     "data": {
      "text/plain": [
       "([array([ 33., 151.,  69.,   3.,   0.,   0.,   0.,   0.,   0.,   0.]),\n",
       "  array([ 33., 152.,  69.,   2.,   0.,   0.,   0.,   0.,   0.,   0.]),\n",
       "  array([ 33., 148.,  68.,   6.,   1.,   0.,   0.,   0.,   0.,   0.]),\n",
       "  array([ 29., 151.,  66.,   8.,   2.,   0.,   0.,   0.,   0.,   0.]),\n",
       "  array([ 26., 153.,  64.,  11.,   2.,   0.,   0.,   0.,   0.,   0.]),\n",
       "  array([ 28., 166.,  48.,  13.,   1.,   0.,   0.,   0.,   0.,   0.]),\n",
       "  array([ 32., 159.,  53.,  10.,   2.,   0.,   0.,   0.,   0.,   0.]),\n",
       "  array([ 31., 159.,  55.,   9.,   2.,   0.,   0.,   0.,   0.,   0.]),\n",
       "  array([ 33., 155.,  56.,  10.,   2.,   0.,   0.,   0.,   0.,   0.]),\n",
       "  array([ 35., 155.,  55.,   9.,   2.,   0.,   0.,   0.,   0.,   0.]),\n",
       "  array([ 41., 147.,  59.,   7.,   2.,   0.,   0.,   0.,   0.,   0.]),\n",
       "  array([ 41., 148.,  61.,   5.,   1.,   0.,   0.,   0.,   0.,   0.]),\n",
       "  array([ 42., 143.,  66.,   4.,   1.,   0.,   0.,   0.,   0.,   0.]),\n",
       "  array([ 40., 147.,  61.,   7.,   1.,   0.,   0.,   0.,   0.,   0.]),\n",
       "  array([ 37., 146.,  67.,   5.,   1.,   0.,   0.,   0.,   0.,   0.]),\n",
       "  array([ 38., 155.,  60.,   1.,   2.,   0.,   0.,   0.,   0.,   0.]),\n",
       "  array([ 53., 148.,  50.,   3.,   2.,   0.,   0.,   0.,   0.,   0.]),\n",
       "  array([ 50., 144.,  57.,   5.,   0.,   0.,   0.,   0.,   0.,   0.]),\n",
       "  array([ 35., 160.,  56.,   5.,   0.,   0.,   0.,   0.,   0.,   0.]),\n",
       "  array([ 36., 155.,  58.,   7.,   0.,   0.,   0.,   0.,   0.,   0.]),\n",
       "  array([ 39., 152.,  59.,   6.,   0.,   0.,   0.,   0.,   0.,   0.]),\n",
       "  array([ 36., 150.,  63.,   7.,   0.,   0.,   0.,   0.,   0.,   0.]),\n",
       "  array([ 39., 149.,  61.,   7.,   0.,   0.,   0.,   0.,   0.,   0.]),\n",
       "  array([ 45., 151.,  53.,   7.,   0.,   0.,   0.,   0.,   0.,   0.]),\n",
       "  array([ 43., 153.,  51.,   7.,   2.,   0.,   0.,   0.,   0.,   0.]),\n",
       "  array([ 40., 150.,  55.,  10.,   1.,   0.,   0.,   0.,   0.,   0.]),\n",
       "  array([ 45., 135.,  58.,  16.,   2.,   0.,   0.,   0.,   0.,   0.]),\n",
       "  array([ 36., 126.,  75.,  16.,   3.,   0.,   0.,   0.,   0.,   0.]),\n",
       "  array([ 36., 138.,  68.,  11.,   3.,   0.,   0.,   0.,   0.,   0.]),\n",
       "  array([ 38., 151.,  55.,   9.,   3.,   0.,   0.,   0.,   0.,   0.]),\n",
       "  array([ 41., 137.,  65.,  12.,   1.,   0.,   0.,   0.,   0.,   0.]),\n",
       "  array([ 39., 127.,  73.,  16.,   1.,   0.,   0.,   0.,   0.,   0.]),\n",
       "  array([ 36., 141.,  62.,  16.,   1.,   0.,   0.,   0.,   0.,   0.]),\n",
       "  array([ 43., 137.,  60.,  12.,   4.,   0.,   0.,   0.,   0.,   0.]),\n",
       "  array([ 42., 137.,  63.,  11.,   3.,   0.,   0.,   0.,   0.,   0.]),\n",
       "  array([ 41., 139.,  66.,   7.,   3.,   0.,   0.,   0.,   0.,   0.]),\n",
       "  array([ 37., 144.,  66.,   7.,   2.,   0.,   0.,   0.,   0.,   0.]),\n",
       "  array([ 45., 134.,  70.,   6.,   1.,   0.,   0.,   0.,   0.,   0.]),\n",
       "  array([ 43., 150.,  57.,   6.,   0.,   0.,   0.,   0.,   0.,   0.]),\n",
       "  array([ 46., 146.,  62.,   2.,   0.,   0.,   0.,   0.,   0.,   0.]),\n",
       "  array([ 45., 144.,  59.,   8.,   0.,   0.,   0.,   0.,   0.,   0.]),\n",
       "  array([ 52., 141.,  58.,   5.,   0.,   0.,   0.,   0.,   0.,   0.]),\n",
       "  array([ 54., 135.,  62.,   5.,   0.,   0.,   0.,   0.,   0.,   0.]),\n",
       "  array([ 55., 139.,  49.,  11.,   2.,   0.,   0.,   0.,   0.,   0.]),\n",
       "  array([ 56., 133.,  55.,   8.,   4.,   0.,   0.,   0.,   0.,   0.]),\n",
       "  array([ 63., 126.,  55.,   9.,   3.,   0.,   0.,   0.,   0.,   0.]),\n",
       "  array([ 64., 131.,  50.,  11.,   0.,   0.,   0.,   0.,   0.,   0.]),\n",
       "  array([ 58., 134.,  53.,  11.,   0.,   0.,   0.,   0.,   0.,   0.]),\n",
       "  array([ 59., 127.,  60.,  10.,   0.,   0.,   0.,   0.,   0.,   0.]),\n",
       "  array([ 60., 116.,  63.,  17.,   0.,   0.,   0.,   0.,   0.,   0.]),\n",
       "  array([ 57., 119.,  70.,  10.,   0.,   0.,   0.,   0.,   0.,   0.]),\n",
       "  array([ 57., 135.,  57.,   7.,   0.,   0.,   0.,   0.,   0.,   0.]),\n",
       "  array([ 51., 152.,  43.,  10.,   0.,   0.,   0.,   0.,   0.,   0.]),\n",
       "  array([ 53., 152.,  43.,   7.,   1.,   0.,   0.,   0.,   0.,   0.]),\n",
       "  array([ 51., 149.,  47.,   8.,   1.,   0.,   0.,   0.,   0.,   0.]),\n",
       "  array([ 56., 149.,  45.,   5.,   1.,   0.,   0.,   0.,   0.,   0.]),\n",
       "  array([ 56., 139.,  55.,   6.,   0.,   0.,   0.,   0.,   0.,   0.]),\n",
       "  array([ 55., 131.,  62.,   8.,   0.,   0.,   0.,   0.,   0.,   0.]),\n",
       "  array([ 62., 121.,  63.,   9.,   1.,   0.,   0.,   0.,   0.,   0.]),\n",
       "  array([ 67., 118.,  60.,  11.,   0.,   0.,   0.,   0.,   0.,   0.]),\n",
       "  array([ 65., 121.,  62.,   8.,   0.,   0.,   0.,   0.,   0.,   0.]),\n",
       "  array([ 62., 110.,  80.,   4.,   0.,   0.,   0.,   0.,   0.,   0.]),\n",
       "  array([ 66., 101.,  77.,  10.,   2.,   0.,   0.,   0.,   0.,   0.]),\n",
       "  array([ 64., 108.,  64.,  15.,   5.,   0.,   0.,   0.,   0.,   0.]),\n",
       "  array([ 67., 108.,  61.,  17.,   3.,   0.,   0.,   0.,   0.,   0.]),\n",
       "  array([77., 98., 62., 19.,  0.,  0.,  0.,  0.,  0.,  0.]),\n",
       "  array([ 73., 112.,  52.,  18.,   1.,   0.,   0.,   0.,   0.,   0.]),\n",
       "  array([ 67., 115.,  54.,  20.,   0.,   0.,   0.,   0.,   0.,   0.]),\n",
       "  array([ 62., 120.,  61.,  13.,   0.,   0.,   0.,   0.,   0.,   0.]),\n",
       "  array([ 62., 116.,  67.,  11.,   0.,   0.,   0.,   0.,   0.,   0.]),\n",
       "  array([ 70., 102.,  73.,  11.,   0.,   0.,   0.,   0.,   0.,   0.]),\n",
       "  array([ 73., 107.,  65.,  11.,   0.,   0.,   0.,   0.,   0.,   0.]),\n",
       "  array([ 70., 100.,  71.,  15.,   0.,   0.,   0.,   0.,   0.,   0.]),\n",
       "  array([ 67., 108.,  70.,  11.,   0.,   0.,   0.,   0.,   0.,   0.]),\n",
       "  array([ 66., 109.,  71.,   9.,   0.,   0.,   0.,   0.,   1.,   0.]),\n",
       "  array([ 66., 108.,  69.,  12.,   1.,   0.,   0.,   0.,   0.,   0.]),\n",
       "  array([ 67., 102.,  75.,  12.,   0.,   0.,   0.,   0.,   0.,   0.]),\n",
       "  array([ 70., 102.,  68.,  15.,   0.,   1.,   0.,   0.,   0.,   0.]),\n",
       "  array([81., 97., 67., 11.,  0.,  0.,  0.,  0.,  0.,  0.]),\n",
       "  array([80., 92., 72., 12.,  0.,  0.,  0.,  0.,  0.,  0.]),\n",
       "  array([74., 95., 73., 14.,  0.,  0.,  0.,  0.,  0.,  0.]),\n",
       "  array([77., 91., 81.,  7.,  0.,  0.,  0.,  0.,  0.,  0.]),\n",
       "  array([81., 92., 75.,  8.,  0.,  0.,  0.,  0.,  0.,  0.]),\n",
       "  array([87., 90., 71.,  8.,  0.,  0.,  0.,  0.,  0.,  0.]),\n",
       "  array([88., 97., 59., 10.,  2.,  0.,  0.,  0.,  0.,  0.]),\n",
       "  array([ 85., 101.,  63.,   7.,   0.,   0.,   0.,   0.,   0.,   0.]),\n",
       "  array([ 82., 104.,  65.,   5.,   0.,   0.,   0.,   0.,   0.,   0.]),\n",
       "  array([ 76., 111.,  64.,   5.,   0.,   0.,   0.,   0.,   0.,   0.]),\n",
       "  array([ 78., 109.,  62.,   7.,   0.,   0.,   0.,   0.,   0.,   0.]),\n",
       "  array([ 79., 114.,  52.,  11.,   0.,   0.,   0.,   0.,   0.,   0.]),\n",
       "  array([ 80., 111.,  46.,  18.,   1.,   0.,   0.,   0.,   0.,   0.]),\n",
       "  array([ 85., 101.,  51.,  18.,   1.,   0.,   0.,   0.,   0.,   0.]),\n",
       "  array([88., 97., 57., 14.,  0.,  0.,  0.,  0.,  0.,  0.]),\n",
       "  array([94., 78., 71., 13.,  0.,  0.,  0.,  0.,  0.,  0.]),\n",
       "  array([95., 77., 68., 16.,  0.,  0.,  0.,  0.,  0.,  0.]),\n",
       "  array([94., 88., 59., 15.,  0.,  0.,  0.,  0.,  0.,  0.]),\n",
       "  array([99., 86., 59., 12.,  0.,  0.,  0.,  0.,  0.,  0.]),\n",
       "  array([107.,  89.,  41.,  19.,   0.,   0.,   0.,   0.,   0.,   0.]),\n",
       "  array([106.,  88.,  53.,   8.,   1.,   0.,   0.,   0.,   0.,   0.]),\n",
       "  array([109.,  87.,  52.,   6.,   2.,   0.,   0.,   0.,   0.,   0.]),\n",
       "  array([108.,  88.,  50.,  10.,   0.,   0.,   0.,   0.,   0.,   0.]),\n",
       "  array([106.,  83.,  55.,   8.,   4.,   0.,   0.,   0.,   0.,   0.]),\n",
       "  array([107.,  76.,  59.,   9.,   5.,   0.,   0.,   0.,   0.,   0.]),\n",
       "  array([108.,  72.,  64.,   8.,   4.,   0.,   0.,   0.,   0.,   0.]),\n",
       "  array([104.,  75.,  58.,  17.,   1.,   0.,   0.,   0.,   0.,   1.]),\n",
       "  array([96., 83., 55., 21.,  1.,  0.,  0.,  0.,  0.,  0.]),\n",
       "  array([101.,  87.,  54.,  14.,   0.,   0.,   0.,   0.,   0.,   0.]),\n",
       "  array([112.,  81.,  56.,   6.,   1.,   0.,   0.,   0.,   0.,   0.]),\n",
       "  array([111.,  80.,  60.,   5.,   0.,   0.,   0.,   0.,   0.,   0.]),\n",
       "  array([103.,  90.,  59.,   4.,   0.,   0.,   0.,   0.,   0.,   0.]),\n",
       "  array([ 95., 106.,  52.,   3.,   0.,   0.,   0.,   0.,   0.,   0.]),\n",
       "  array([ 95., 100.,  51.,  10.,   0.,   0.,   0.,   0.,   0.,   0.]),\n",
       "  array([97., 87., 57., 15.,  0.,  0.,  0.,  0.,  0.,  0.]),\n",
       "  array([99., 84., 56., 15.,  2.,  0.,  0.,  0.,  0.,  0.]),\n",
       "  array([101.,  82.,  64.,   8.,   1.,   0.,   0.,   0.,   0.,   0.]),\n",
       "  array([104.,  88.,  49.,  14.,   1.,   0.,   0.,   0.,   0.,   0.]),\n",
       "  array([114.,  88.,  42.,  12.,   0.,   0.,   0.,   0.,   0.,   0.]),\n",
       "  array([122.,  83.,  48.,   3.,   0.,   0.,   0.,   0.,   0.,   0.]),\n",
       "  array([125.,  79.,  49.,   3.,   0.,   0.,   0.,   0.,   0.,   0.]),\n",
       "  array([118.,  81.,  54.,   3.,   0.,   0.,   0.,   0.,   0.,   0.]),\n",
       "  array([124.,  76.,  51.,   5.,   0.,   0.,   0.,   0.,   0.,   0.]),\n",
       "  array([125.,  79.,  47.,   5.,   0.,   0.,   0.,   0.,   0.,   0.]),\n",
       "  array([124.,  70.,  53.,   9.,   0.,   0.,   0.,   0.,   0.,   0.]),\n",
       "  array([130.,  70.,  48.,   8.,   0.,   0.,   0.,   0.,   0.,   0.]),\n",
       "  array([134.,  75.,  46.,   1.,   0.,   0.,   0.,   0.,   0.,   0.]),\n",
       "  array([137.,  84.,  34.,   1.,   0.,   0.,   0.,   0.,   0.,   0.]),\n",
       "  array([139.,  76.,  37.,   4.,   0.,   0.,   0.,   0.,   0.,   0.]),\n",
       "  array([134.,  83.,  33.,   6.,   0.,   0.,   0.,   0.,   0.,   0.]),\n",
       "  array([133.,  82.,  37.,   4.,   0.,   0.,   0.,   0.,   0.,   0.]),\n",
       "  array([137.,  73.,  42.,   4.,   0.,   0.,   0.,   0.,   0.,   0.]),\n",
       "  array([140.,  75.,  34.,   7.,   0.,   0.,   0.,   0.,   0.,   0.]),\n",
       "  array([144.,  74.,  32.,   6.,   0.,   0.,   0.,   0.,   0.,   0.]),\n",
       "  array([147.,  72.,  31.,   4.,   2.,   0.,   0.,   0.,   0.,   0.]),\n",
       "  array([149.,  74.,  28.,   3.,   2.,   0.,   0.,   0.,   0.,   0.]),\n",
       "  array([152.,  74.,  23.,   6.,   1.,   0.,   0.,   0.,   0.,   0.]),\n",
       "  array([150.,  70.,  31.,   4.,   0.,   1.,   0.,   0.,   0.,   0.]),\n",
       "  array([152.,  75.,  28.,   1.,   0.,   0.,   0.,   0.,   0.,   0.]),\n",
       "  array([152.,  70.,  34.,   0.,   0.,   0.,   0.,   0.,   0.,   0.]),\n",
       "  array([154.,  74.,  27.,   1.,   0.,   0.,   0.,   0.,   0.,   0.]),\n",
       "  array([155.,  71.,  28.,   2.,   0.,   0.,   0.,   0.,   0.,   0.]),\n",
       "  array([158.,  63.,  32.,   3.,   0.,   0.,   0.,   0.,   0.,   0.]),\n",
       "  array([164.,  64.,  26.,   2.,   0.,   0.,   0.,   0.,   0.,   0.]),\n",
       "  array([166.,  56.,  30.,   4.,   0.,   0.,   0.,   0.,   0.,   0.]),\n",
       "  array([167.,  49.,  35.,   4.,   1.,   0.,   0.,   0.,   0.,   0.]),\n",
       "  array([169.,  55.,  28.,   4.,   0.,   0.,   0.,   0.,   0.,   0.]),\n",
       "  array([172.,  59.,  23.,   2.,   0.,   0.,   0.,   0.,   0.,   0.]),\n",
       "  array([177.,  62.,  16.,   1.,   0.,   0.,   0.,   0.,   0.,   0.]),\n",
       "  array([182.,  50.,  23.,   1.,   0.,   0.,   0.,   0.,   0.,   0.]),\n",
       "  array([183.,  50.,  23.,   0.,   0.,   0.,   0.,   0.,   0.,   0.]),\n",
       "  array([182.,  55.,  19.,   0.,   0.,   0.,   0.,   0.,   0.,   0.]),\n",
       "  array([187.,  46.,  23.,   0.,   0.,   0.,   0.,   0.,   0.,   0.]),\n",
       "  array([189.,  43.,  21.,   3.,   0.,   0.,   0.,   0.,   0.,   0.]),\n",
       "  array([187.,  41.,  25.,   3.,   0.,   0.,   0.,   0.,   0.,   0.]),\n",
       "  array([186.,  40.,  28.,   2.,   0.,   0.,   0.,   0.,   0.,   0.]),\n",
       "  array([189.,  36.,  30.,   1.,   0.,   0.,   0.,   0.,   0.,   0.]),\n",
       "  array([191.,  32.,  33.,   0.,   0.,   0.,   0.,   0.,   0.,   0.]),\n",
       "  array([194.,  34.,  28.,   0.,   0.,   0.,   0.,   0.,   0.,   0.]),\n",
       "  array([195.,  40.,  21.,   0.,   0.,   0.,   0.,   0.,   0.,   0.]),\n",
       "  array([197.,  30.,  24.,   5.,   0.,   0.,   0.,   0.,   0.,   0.]),\n",
       "  array([200.,  23.,  32.,   1.,   0.,   0.,   0.,   0.,   0.,   0.]),\n",
       "  array([204.,  30.,  22.,   0.,   0.,   0.,   0.,   0.,   0.,   0.]),\n",
       "  array([209.,  27.,  19.,   1.,   0.,   0.,   0.,   0.,   0.,   0.]),\n",
       "  array([212.,  29.,  13.,   2.,   0.,   0.,   0.,   0.,   0.,   0.]),\n",
       "  array([215.,  27.,  11.,   2.,   0.,   0.,   1.,   0.,   0.,   0.]),\n",
       "  array([217.,  28.,  11.,   0.,   0.,   0.,   0.,   0.,   0.,   0.]),\n",
       "  array([215.,  23.,  17.,   1.,   0.,   0.,   0.,   0.,   0.,   0.]),\n",
       "  array([213.,  26.,  15.,   2.,   0.,   0.,   0.,   0.,   0.,   0.]),\n",
       "  array([215.,  26.,  14.,   1.,   0.,   0.,   0.,   0.,   0.,   0.]),\n",
       "  array([218.,  22.,  16.,   0.,   0.,   0.,   0.,   0.,   0.,   0.]),\n",
       "  array([220.,  22.,  14.,   0.,   0.,   0.,   0.,   0.,   0.,   0.]),\n",
       "  array([222.,  22.,  12.,   0.,   0.,   0.,   0.,   0.,   0.,   0.]),\n",
       "  array([224.,  20.,  12.,   0.,   0.,   0.,   0.,   0.,   0.,   0.]),\n",
       "  array([227.,  17.,  11.,   1.,   0.,   0.,   0.,   0.,   0.,   0.]),\n",
       "  array([230.,  13.,  13.,   0.,   0.,   0.,   0.,   0.,   0.,   0.]),\n",
       "  array([234.,  14.,   8.,   0.,   0.,   0.,   0.,   0.,   0.,   0.]),\n",
       "  array([237.,  14.,   4.,   1.,   0.,   0.,   0.,   0.,   0.,   0.]),\n",
       "  array([240.,  12.,   4.,   0.,   0.,   0.,   0.,   0.,   0.,   0.]),\n",
       "  array([242.,  10.,   3.,   1.,   0.,   0.,   0.,   0.,   0.,   0.]),\n",
       "  array([244.,   7.,   5.,   0.,   0.,   0.,   0.,   0.,   0.,   0.]),\n",
       "  array([242.,   7.,   7.,   0.,   0.,   0.,   0.,   0.,   0.,   0.]),\n",
       "  array([244.,   6.,   4.,   2.,   0.,   0.,   0.,   0.,   0.,   0.]),\n",
       "  array([246.,   6.,   4.,   0.,   0.,   0.,   0.,   0.,   0.,   0.]),\n",
       "  array([249.,   6.,   1.,   0.,   0.,   0.,   0.,   0.,   0.,   0.]),\n",
       "  array([251.,   3.,   2.,   0.,   0.,   0.,   0.,   0.,   0.,   0.]),\n",
       "  array([253.,   1.,   2.,   0.,   0.,   0.,   0.,   0.,   0.,   0.]),\n",
       "  array([255.,   1.,   0.,   0.,   0.,   0.,   0.,   0.,   0.,   0.]),\n",
       "  array([256.,   0.,   0.,   0.,   0.,   0.,   0.,   0.,   0.,   0.]),\n",
       "  array([256.,   0.,   0.,   0.,   0.,   0.,   0.,   0.,   0.,   0.]),\n",
       "  array([256.,   0.,   0.,   0.,   0.,   0.,   0.,   0.,   0.,   0.]),\n",
       "  array([256.,   0.,   0.,   0.,   0.,   0.,   0.,   0.,   0.,   0.]),\n",
       "  array([256.,   0.,   0.,   0.,   0.,   0.,   0.,   0.,   0.,   0.]),\n",
       "  array([256.,   0.,   0.,   0.,   0.,   0.,   0.,   0.,   0.,   0.]),\n",
       "  array([256.,   0.,   0.,   0.,   0.,   0.,   0.,   0.,   0.,   0.]),\n",
       "  array([256.,   0.,   0.,   0.,   0.,   0.,   0.,   0.,   0.,   0.]),\n",
       "  array([256.,   0.,   0.,   0.,   0.,   0.,   0.,   0.,   0.,   0.]),\n",
       "  array([256.,   0.,   0.,   0.,   0.,   0.,   0.,   0.,   0.,   0.]),\n",
       "  array([256.,   0.,   0.,   0.,   0.,   0.,   0.,   0.,   0.,   0.]),\n",
       "  array([256.,   0.,   0.,   0.,   0.,   0.,   0.,   0.,   0.,   0.]),\n",
       "  array([256.,   0.,   0.,   0.,   0.,   0.,   0.,   0.,   0.,   0.]),\n",
       "  array([256.,   0.,   0.,   0.,   0.,   0.,   0.,   0.,   0.,   0.]),\n",
       "  array([256.,   0.,   0.,   0.,   0.,   0.,   0.,   0.,   0.,   0.]),\n",
       "  array([256.,   0.,   0.,   0.,   0.,   0.,   0.,   0.,   0.,   0.]),\n",
       "  array([256.,   0.,   0.,   0.,   0.,   0.,   0.,   0.,   0.,   0.]),\n",
       "  array([256.,   0.,   0.,   0.,   0.,   0.,   0.,   0.,   0.,   0.]),\n",
       "  array([256.,   0.,   0.,   0.,   0.,   0.,   0.,   0.,   0.,   0.]),\n",
       "  array([256.,   0.,   0.,   0.,   0.,   0.,   0.,   0.,   0.,   0.]),\n",
       "  array([256.,   0.,   0.,   0.,   0.,   0.,   0.,   0.,   0.,   0.]),\n",
       "  array([256.,   0.,   0.,   0.,   0.,   0.,   0.,   0.,   0.,   0.]),\n",
       "  array([256.,   0.,   0.,   0.,   0.,   0.,   0.,   0.,   0.,   0.]),\n",
       "  array([256.,   0.,   0.,   0.,   0.,   0.,   0.,   0.,   0.,   0.]),\n",
       "  array([256.,   0.,   0.,   0.,   0.,   0.,   0.,   0.,   0.,   0.]),\n",
       "  array([256.,   0.,   0.,   0.,   0.,   0.,   0.,   0.,   0.,   0.]),\n",
       "  array([256.,   0.,   0.,   0.,   0.,   0.,   0.,   0.,   0.,   0.]),\n",
       "  array([256.,   0.,   0.,   0.,   0.,   0.,   0.,   0.,   0.,   0.]),\n",
       "  array([256.,   0.,   0.,   0.,   0.,   0.,   0.,   0.,   0.,   0.]),\n",
       "  array([256.,   0.,   0.,   0.,   0.,   0.,   0.,   0.,   0.,   0.]),\n",
       "  array([256.,   0.,   0.,   0.,   0.,   0.,   0.,   0.,   0.,   0.]),\n",
       "  array([256.,   0.,   0.,   0.,   0.,   0.,   0.,   0.,   0.,   0.]),\n",
       "  array([256.,   0.,   0.,   0.,   0.,   0.,   0.,   0.,   0.,   0.]),\n",
       "  array([256.,   0.,   0.,   0.,   0.,   0.,   0.,   0.,   0.,   0.]),\n",
       "  array([256.,   0.,   0.,   0.,   0.,   0.,   0.,   0.,   0.,   0.]),\n",
       "  array([256.,   0.,   0.,   0.,   0.,   0.,   0.,   0.,   0.,   0.]),\n",
       "  array([256.,   0.,   0.,   0.,   0.,   0.,   0.,   0.,   0.,   0.]),\n",
       "  array([256.,   0.,   0.,   0.,   0.,   0.,   0.,   0.,   0.,   0.]),\n",
       "  array([256.,   0.,   0.,   0.,   0.,   0.,   0.,   0.,   0.,   0.]),\n",
       "  array([256.,   0.,   0.,   0.,   0.,   0.,   0.,   0.,   0.,   0.]),\n",
       "  array([256.,   0.,   0.,   0.,   0.,   0.,   0.,   0.,   0.,   0.]),\n",
       "  array([255.,   0.,   1.,   0.,   0.,   0.,   0.,   0.,   0.,   0.]),\n",
       "  array([255.,   0.,   1.,   0.,   0.,   0.,   0.,   0.,   0.,   0.]),\n",
       "  array([254.,   0.,   2.,   0.,   0.,   0.,   0.,   0.,   0.,   0.]),\n",
       "  array([254.,   1.,   1.,   0.,   0.,   0.,   0.,   0.,   0.,   0.]),\n",
       "  array([254.,   0.,   2.,   0.,   0.,   0.,   0.,   0.,   0.,   0.]),\n",
       "  array([253.,   0.,   3.,   0.,   0.,   0.,   0.,   0.,   0.,   0.]),\n",
       "  array([253.,   1.,   2.,   0.,   0.,   0.,   0.,   0.,   0.,   0.]),\n",
       "  array([252.,   4.,   0.,   0.,   0.,   0.,   0.,   0.,   0.,   0.]),\n",
       "  array([252.,   4.,   0.,   0.,   0.,   0.,   0.,   0.,   0.,   0.]),\n",
       "  array([256.,   0.,   0.,   0.,   0.,   0.,   0.,   0.,   0.,   0.]),\n",
       "  array([254.,   2.,   0.,   0.,   0.,   0.,   0.,   0.,   0.,   0.]),\n",
       "  array([253.,   3.,   0.,   0.,   0.,   0.,   0.,   0.,   0.,   0.]),\n",
       "  array([250.,   5.,   1.,   0.,   0.,   0.,   0.,   0.,   0.,   0.]),\n",
       "  array([251.,   4.,   1.,   0.,   0.,   0.,   0.,   0.,   0.,   0.]),\n",
       "  array([249.,   5.,   2.,   0.,   0.,   0.,   0.,   0.,   0.,   0.]),\n",
       "  array([249.,   3.,   4.,   0.,   0.,   0.,   0.,   0.,   0.,   0.]),\n",
       "  array([249.,   2.,   5.,   0.,   0.,   0.,   0.,   0.,   0.,   0.]),\n",
       "  array([248.,   6.,   2.,   0.,   0.,   0.,   0.,   0.,   0.,   0.]),\n",
       "  array([248.,   6.,   2.,   0.,   0.,   0.,   0.,   0.,   0.,   0.]),\n",
       "  array([247.,   8.,   1.,   0.,   0.,   0.,   0.,   0.,   0.,   0.]),\n",
       "  array([247.,   4.,   5.,   0.,   0.,   0.,   0.,   0.,   0.,   0.]),\n",
       "  array([247.,   3.,   6.,   0.,   0.,   0.,   0.,   0.,   0.,   0.]),\n",
       "  array([246.,   5.,   5.,   0.,   0.,   0.,   0.,   0.,   0.,   0.]),\n",
       "  array([248.,   2.,   6.,   0.,   0.,   0.,   0.,   0.,   0.,   0.]),\n",
       "  array([247.,   4.,   5.,   0.,   0.,   0.,   0.,   0.,   0.,   0.]),\n",
       "  array([248.,   4.,   4.,   0.,   0.,   0.,   0.,   0.,   0.,   0.]),\n",
       "  array([247.,   7.,   2.,   0.,   0.,   0.,   0.,   0.,   0.,   0.]),\n",
       "  array([245.,   9.,   2.,   0.,   0.,   0.,   0.,   0.,   0.,   0.]),\n",
       "  array([243.,   7.,   5.,   0.,   0.,   1.,   0.,   0.,   0.,   0.])],\n",
       " array([0.        , 0.04851954, 0.09703908, 0.14555863, 0.19407816,\n",
       "        0.2425977 , 0.29111725, 0.33963677, 0.38815632, 0.43667585,\n",
       "        0.4851954 ], dtype=float32),\n",
       " <a list of 256 Lists of Patches objects>)"
      ]
     },
     "execution_count": 152,
     "metadata": {
      "tags": []
     },
     "output_type": "execute_result"
    },
    {
     "data": {
      "image/png": "[encoded data removed]",
      "text/plain": [
       "<Figure size 432x288 with 1 Axes>"
      ]
     },
     "metadata": {
      "tags": []
     },
     "output_type": "display_data"
    }
   ],
   "source": [
    "plt.hist(img)"
   ]
  },
  {
   "cell_type": "code",
   "execution_count": null,
   "metadata": {
    "colab": {
     "base_uri": "https://localhost:8080/",
     "height": 354
    },
    "colab_type": "code",
    "id": "NA76Q-qz_ayr",
    "outputId": "675d41ab-9b9e-43b6-d4ee-0a52623635d3"
   },
   "outputs": [
    {
     "name": "stderr",
     "output_type": "stream",
     "text": [
      "/usr/local/lib/python3.6/dist-packages/ipykernel_launcher.py:3: RuntimeWarning: invalid value encountered in less\n",
      "  This is separate from the ipykernel package so we can avoid doing imports until\n",
      "/usr/local/lib/python3.6/dist-packages/ipykernel_launcher.py:4: RuntimeWarning: invalid value encountered in greater_equal\n",
      "  after removing the cwd from sys.path.\n"
     ]
    },
    {
     "data": {
      "text/plain": [
       "<matplotlib.image.AxesImage at 0x7fb48659ba90>"
      ]
     },
     "execution_count": 144,
     "metadata": {
      "tags": []
     },
     "output_type": "execute_result"
    },
    {
     "data": {
      "image/png": "[encoded data removed]",
      "text/plain": [
       "<Figure size 432x288 with 1 Axes>"
      ]
     },
     "metadata": {
      "tags": []
     },
     "output_type": "display_data"
    }
   ],
   "source": [
    "mask = Image.open(f'mask/msk489_100000.tif')\n",
    "mask = np.array(mask)\n",
    "mask[mask <1] = 0\n",
    "mask[mask >= 1] =1\n",
    "plt.imshow(mask)"
   ]
  }
 ],
 "metadata": {
  "accelerator": "GPU",
  "colab": {
   "name": "Multiclass-Sugarcane-Unet.ipynb",
   "provenance": [],
   "toc_visible": true
  },
  "kernelspec": {
   "display_name": "Python 3",
   "language": "python",
   "name": "python3"
  },
  "language_info": {
   "codemirror_mode": {
    "name": "ipython",
    "version": 3
   },
   "file_extension": ".py",
   "mimetype": "text/x-python",
   "name": "python",
   "nbconvert_exporter": "python",
   "pygments_lexer": "ipython3",
   "version": "3.6.12"
  }
 },
 "nbformat": 4,
 "nbformat_minor": 1
}
